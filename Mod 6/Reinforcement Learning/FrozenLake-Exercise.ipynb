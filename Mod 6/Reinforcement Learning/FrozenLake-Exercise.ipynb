{
 "cells": [
  {
   "cell_type": "markdown",
   "metadata": {},
   "source": [
    "# <center>Frozen Lake\n",
    "### <center>Using Q-learning to not die"
   ]
  },
  {
   "cell_type": "markdown",
   "metadata": {},
   "source": [
    "<center>\n",
    "S F F F <br>\n",
    "F H F H <br>\n",
    "F F F H <br>\n",
    "H F F G <br>\n",
    "</center>"
   ]
  },
  {
   "cell_type": "markdown",
   "metadata": {},
   "source": [
    "S = starting position<br>\n",
    "F = frozen, or safe<br>\n",
    "H = hole, or death<br>\n",
    "G = goal<br>"
   ]
  },
  {
   "cell_type": "markdown",
   "metadata": {},
   "source": [
    "<img src='frozenlake.png'>"
   ]
  },
  {
   "cell_type": "markdown",
   "metadata": {},
   "source": [
    "First, let's import all the necessary libraries. "
   ]
  },
  {
   "cell_type": "code",
   "execution_count": 1,
   "metadata": {},
   "outputs": [],
   "source": [
    "import gym\n",
    "import numpy as np\n",
    "import time\n",
    "from IPython.display import clear_output\n",
    "import pandas as pd"
   ]
  },
  {
   "cell_type": "markdown",
   "metadata": {},
   "source": [
    "Next, let's watch some random playing of the game."
   ]
  },
  {
   "cell_type": "code",
   "execution_count": 2,
   "metadata": {},
   "outputs": [
    {
     "name": "stdout",
     "output_type": "stream",
     "text": [
      "  (Left)\n",
      "SFFF\n",
      "\u001b[41mF\u001b[0mHFH\n",
      "FFFH\n",
      "HFFG\n"
     ]
    }
   ],
   "source": [
    "env = gym.make(\"FrozenLake-v0\", is_slippery=False)\n",
    "for game in range(10):\n",
    "    state = env.reset()\n",
    "    for t in range(100):\n",
    "        clear_output(wait=True)\n",
    "        env.render()\n",
    "        time.sleep(0.2)\n",
    "        action = env.action_space.sample()\n",
    "        next_state, reward, done, info = env.step(action)\n",
    "        if done:\n",
    "            break"
   ]
  },
  {
   "cell_type": "markdown",
   "metadata": {},
   "source": [
    "### <center>Discuss\n",
    "#### <center> What do you observe from watching the random agent? \n",
    "#### <center> Do you think this will be an easy environment to solve?"
   ]
  },
  {
   "cell_type": "markdown",
   "metadata": {},
   "source": [
    "Now, let's try using Q-learning to train an agent to play the game."
   ]
  },
  {
   "cell_type": "markdown",
   "metadata": {},
   "source": [
    "We will start with a version of FrozenLake where the surface is not slippery. This is a deterministic environment -  every action we choose to take will always move us in that direction."
   ]
  },
  {
   "cell_type": "markdown",
   "metadata": {},
   "source": [
    "You will need the following elements:\n",
    "- <b>Q-table</b>:\n",
    "    - Instantiate a table of zeros of size (number of states)x(number of actions)\n",
    "    - You can use np.zeros() to create the array.\n",
    "    \n",
    "- <b>Gamma</b>:\n",
    "    - The discount factor for future rewards.\n",
    "    - Typically a number close to 1 (0.95-0.99) but feel free to try different values.\n",
    "- <b>Scores array</b>:\n",
    "    - An empty list to append scores from each game to.\n",
    "    - Also, set a running score variable to zero at the start of each game.\n",
    "- <b>Action selection</b>:\n",
    "    - At each step, choose the best action.\n",
    "    - Since at the beginning, our table will be all zeros, we need to be able to choose an action at random if more than one has the highest Q-value.\n",
    "    - You can use np.max() to get the highest Q-value.\n",
    "    - Then get the action for each of those highest Q-values with np.where(). (Note: np.where() returns a tuple where the first element is the array of actions.)\n",
    "    - Then use np.random.choice() to select one of the best actions.\n",
    "- <b>Q-value calculation</b>:\n",
    "    - Using the Q-formula:\n",
    "    <img src='q_formula.png'>\n",
    "    - You will have to find the maximum Q-value at the next state.\n",
    "    - You will want to set the appropriate value in your Q-table to this.\n",
    "- <b>Reward tracking</b>:\n",
    "    - Add the current reward to the running score total\n",
    "    - After each game, store the game score in the scores list\n",
    "- <b>State transition</b>\n",
    "    - Set the next state as the current state.\n",
    "- <b>Termination</b>\n",
    "    - If the agent managed to not fall in a hole and thus made it to the goal for 10 episodes in a row, then the environment is considered solved."
   ]
  },
  {
   "cell_type": "code",
   "execution_count": 21,
   "metadata": {},
   "outputs": [
    {
     "name": "stdout",
     "output_type": "stream",
     "text": [
      "  (Right)\n",
      "SFFF\n",
      "FHFH\n",
      "FFFH\n",
      "HF\u001b[41mF\u001b[0mG\n",
      "Solved!\n",
      "Average per past 100 games: 0.16304347826086957\n",
      "Number of games played: 91\n"
     ]
    }
   ],
   "source": [
    "env = gym.make(\"FrozenLake-v0\", is_slippery=False)\n",
    "\n",
    "Q_table = np.zeros([env.observation_space.n, env.action_space.n])\n",
    "gamma = 0.99\n",
    "scores = []\n",
    "\n",
    "## We will play for a maximum of 10000 games.\n",
    "for episode in range(10000):\n",
    "    state = env.reset()\n",
    "    score = 0\n",
    "    done = False\n",
    "\n",
    "    while not done:\n",
    "        clear_output(wait=True)\n",
    "        env.render()\n",
    "        action = np.random.choice(np.where(Q_table[state,:]==np.max(Q_table[state,:]))[0])\n",
    "            \n",
    "        next_state, reward, done, info = env.step(action)\n",
    "        \n",
    "        Q_value = reward + (gamma * np.max(Q_table[next_state, :]))\n",
    "        \n",
    "        Q_table[state, action] = Q_value\n",
    "        \n",
    "        score += reward\n",
    "        \n",
    "        state = next_state\n",
    "        \n",
    "    scores.append(score)\n",
    "    \n",
    "    \n",
    "    ## If we have played at least 10 games, check if the last 10 games resulted in success\n",
    "    if episode>9:\n",
    "        if np.mean(scores[-10:])==1:\n",
    "            print(\"Solved!\")\n",
    "            print(\"Average per past 100 games: \" + str(np.mean(scores[-100:])))\n",
    "            print(\"Number of games played: \" + str(episode))\n",
    "            break\n",
    "            \n",
    "if np.mean(scores[-10:])!=1:\n",
    "    print('Failed')\n",
    "env.close()"
   ]
  },
  {
   "cell_type": "markdown",
   "metadata": {},
   "source": [
    "Take a look at your Q-table now."
   ]
  },
  {
   "cell_type": "code",
   "execution_count": 22,
   "metadata": {},
   "outputs": [
    {
     "data": {
      "text/plain": [
       "array([[0.   , 0.951, 0.   , 0.   ],\n",
       "       [0.   , 0.   , 0.   , 0.   ],\n",
       "       [0.   , 0.   , 0.   , 0.   ],\n",
       "       [0.   , 0.   , 0.   , 0.   ],\n",
       "       [0.   , 0.961, 0.   , 0.   ],\n",
       "       [0.   , 0.   , 0.   , 0.   ],\n",
       "       [0.   , 0.   , 0.   , 0.   ],\n",
       "       [0.   , 0.   , 0.   , 0.   ],\n",
       "       [0.   , 0.   , 0.97 , 0.   ],\n",
       "       [0.   , 0.98 , 0.   , 0.   ],\n",
       "       [0.   , 0.   , 0.   , 0.   ],\n",
       "       [0.   , 0.   , 0.   , 0.   ],\n",
       "       [0.   , 0.   , 0.   , 0.   ],\n",
       "       [0.   , 0.   , 0.99 , 0.   ],\n",
       "       [0.   , 0.   , 1.   , 0.   ],\n",
       "       [0.   , 0.   , 0.   , 0.   ]])"
      ]
     },
     "execution_count": 22,
     "metadata": {},
     "output_type": "execute_result"
    }
   ],
   "source": [
    "q_table_not_slippery = np.round(Q_table,3)\n",
    "q_table_not_slippery"
   ]
  },
  {
   "cell_type": "markdown",
   "metadata": {},
   "source": [
    "### <center>Discuss\n",
    "#### <center> How did your agent do? \n",
    "#### <center> What does your Q-table look like?"
   ]
  },
  {
   "cell_type": "markdown",
   "metadata": {},
   "source": [
    "Now we are going to try a stochastic version of our environment by setting is_slippery to true. There is a now a chance that we will slide on the ice and move a different direction than what we chose. "
   ]
  },
  {
   "cell_type": "markdown",
   "metadata": {},
   "source": [
    "### <center>Discuss\n",
    "#### <center> How do you think the challenge will change in the new, slippery version of the environment?\n"
   ]
  },
  {
   "cell_type": "markdown",
   "metadata": {},
   "source": [
    "Copy your code from above and paste below with the following changes:\n",
    "- <b>is_slippery</b>:\n",
    "    - Set to True"
   ]
  },
  {
   "cell_type": "code",
   "execution_count": 25,
   "metadata": {},
   "outputs": [
    {
     "name": "stdout",
     "output_type": "stream",
     "text": [
      "  (Left)\n",
      "SFFF\n",
      "FH\u001b[41mF\u001b[0mH\n",
      "FFFH\n",
      "HFFG\n",
      "Failed\n"
     ]
    }
   ],
   "source": [
    "env = gym.make(\"FrozenLake-v0\", is_slippery=True)\n",
    "\n",
    "Q_table = np.zeros([env.observation_space.n, env.action_space.n])\n",
    "gamma = 0.99\n",
    "scores = []\n",
    "\n",
    "## We will play for a maximum of 10000 games.\n",
    "for episode in range(10000):\n",
    "    state = env.reset()\n",
    "    score = 0\n",
    "    done = False\n",
    "\n",
    "    while not done:\n",
    "        clear_output(wait=True)\n",
    "        env.render()\n",
    "        action = np.random.choice(np.where(Q_table[state,:]==np.max(Q_table[state,:]))[0])\n",
    "            \n",
    "        next_state, reward, done, info = env.step(action)\n",
    "        \n",
    "        Q_value = reward + (gamma * np.max(Q_table[next_state, :]))\n",
    "        \n",
    "        Q_table[state, action] = Q_value\n",
    "        \n",
    "        score += reward\n",
    "        \n",
    "        state = next_state\n",
    "        \n",
    "    scores.append(score)\n",
    "    \n",
    "    \n",
    "    ## If we have played at least 10 games, check if the last 10 games resulted in success\n",
    "    if episode>9:\n",
    "        if np.mean(scores[-10:])==1:\n",
    "            print(\"Solved!\")\n",
    "            print(\"Average per past 100 games: \" + str(np.mean(scores[-100:])))\n",
    "            print(\"Number of games played: \" + str(episode))\n",
    "            break\n",
    "            \n",
    "if np.mean(scores[-10:])!=1:\n",
    "    print('Failed')\n",
    "env.close()"
   ]
  },
  {
   "cell_type": "markdown",
   "metadata": {},
   "source": [
    "Take a look at your Q-table now."
   ]
  },
  {
   "cell_type": "code",
   "execution_count": 24,
   "metadata": {},
   "outputs": [
    {
     "data": {
      "text/plain": [
       "array([[0.   , 0.   , 0.   , 0.   ],\n",
       "       [0.   , 0.   , 0.   , 0.   ],\n",
       "       [0.   , 0.   , 0.   , 0.   ],\n",
       "       [0.   , 0.   , 0.   , 0.   ],\n",
       "       [0.   , 0.   , 0.   , 0.   ],\n",
       "       [0.   , 0.   , 0.   , 0.   ],\n",
       "       [0.   , 0.   , 0.   , 0.   ],\n",
       "       [0.   , 0.   , 0.   , 0.   ],\n",
       "       [0.   , 0.   , 0.   , 0.   ],\n",
       "       [0.   , 0.   , 0.   , 0.   ],\n",
       "       [0.99 , 0.   , 0.   , 0.   ],\n",
       "       [0.   , 0.   , 0.   , 0.   ],\n",
       "       [0.   , 0.   , 0.   , 0.   ],\n",
       "       [0.   , 0.   , 0.97 , 0.   ],\n",
       "       [0.   , 0.886, 0.   , 0.   ],\n",
       "       [0.   , 0.   , 0.   , 0.   ]])"
      ]
     },
     "execution_count": 24,
     "metadata": {},
     "output_type": "execute_result"
    }
   ],
   "source": [
    "q_table_is_slippery = np.round(Q_table,3)\n",
    "q_table_is_slippery"
   ]
  },
  {
   "cell_type": "markdown",
   "metadata": {},
   "source": [
    "### <center>Discuss\n",
    "#### <center> How did your agent perform in the slippery environment?\n",
    "#### <center> Why is performance different in this environment?\n"
   ]
  },
  {
   "cell_type": "markdown",
   "metadata": {},
   "source": [
    "## <center>Solution"
   ]
  },
  {
   "cell_type": "markdown",
   "metadata": {},
   "source": [
    "#### <center>Greedy epsilon policy\n",
    "<center>Makes the agent explore the environment more at first and then later on relying only on its knowledge."
   ]
  },
  {
   "cell_type": "markdown",
   "metadata": {},
   "source": [
    "#### <center>Learning rate\n",
    "<center>Allows the agent to accumulate knowledge, not just overriding previous Q-values with each new experience."
   ]
  },
  {
   "cell_type": "markdown",
   "metadata": {},
   "source": [
    "<center>Q[s, a] = Q[s, a] + alpha*(R + gamma*Max[Q(s’, A)] - Q[s, a])"
   ]
  },
  {
   "cell_type": "code",
   "execution_count": 26,
   "metadata": {},
   "outputs": [
    {
     "name": "stdout",
     "output_type": "stream",
     "text": [
      "Average success rate:  0.0  Epsilon:  0.995\n",
      "Average success rate:  0.009900990099009901  Epsilon:  0.6027415843082742\n",
      "Average success rate:  0.01990049751243781  Epsilon:  0.36512303261753626\n",
      "Average success rate:  0.026578073089700997  Epsilon:  0.2211807388415433\n",
      "Average success rate:  0.04239401496259352  Epsilon:  0.13398475271138335\n",
      "Average success rate:  0.05788423153692615  Epsilon:  0.0811640021330769\n",
      "Average success rate:  0.09484193011647254  Epsilon:  0.04916675299948831\n",
      "Average success rate:  0.1355206847360913  Epsilon:  0.029783765425331846\n",
      "Average success rate:  0.1647940074906367  Epsilon:  0.018042124582040707\n",
      "Average success rate:  0.19644839067702552  Epsilon:  0.010929385683282892\n",
      "Average success rate:  0.23276723276723277  Epsilon:  0.0066206987359377885\n",
      "Solved!\n",
      "Average per past 10 games: 1.0\n",
      "Number of games played: 1002\n"
     ]
    }
   ],
   "source": [
    "env = gym.make(\"FrozenLake-v0\", is_slippery=True)\n",
    "\n",
    "Q_table = np.zeros([env.observation_space.n, env.action_space.n])\n",
    "gamma = 0.95\n",
    "scores = []\n",
    "\n",
    "epsilon = 1\n",
    "epsilon_decay = 0.995\n",
    "epsilon_min = 0.01\n",
    "alpha = 0.85\n",
    "\n",
    "for episode in range(10000):\n",
    "    state = env.reset()\n",
    "    score = 0\n",
    "    done = False\n",
    "    while not done:\n",
    "        if np.random.rand() < epsilon:\n",
    "            action = env.action_space.sample()\n",
    "        else:\n",
    "            action = np.random.choice(np.where(Q_table[state,:]==np.max(Q_table[state,:]))[0])\n",
    "        next_state, reward, done, info = env.step(action)\n",
    "        Q_value = reward + gamma * np.max(Q_table[next_state, :])\n",
    "        Q_table[state, action] = Q_table[state, action] + alpha*(Q_value-Q_table[state,action])\n",
    "        score += reward\n",
    "        state = next_state     \n",
    "    scores.append(score)\n",
    "    epsilon = epsilon*epsilon_decay\n",
    "    if episode>99:\n",
    "        if np.mean(scores[-10:])==1:\n",
    "            print(\"Solved!\")\n",
    "            print(\"Average per past 10 games: \" + str(np.mean(scores[-10:])))\n",
    "            print(\"Number of games played: \" + str(episode))\n",
    "            break\n",
    "     \n",
    "    if episode%100==0:\n",
    "        print('Average success rate: ', np.mean(scores), ' Epsilon: ', epsilon)\n",
    "if np.mean(scores[-10:])!=1:\n",
    "    print('Failed')\n",
    "env.close()"
   ]
  },
  {
   "cell_type": "code",
   "execution_count": 27,
   "metadata": {},
   "outputs": [
    {
     "data": {
      "text/plain": [
       "array([[0.484, 0.04 , 0.031, 0.015],\n",
       "       [0.005, 0.017, 0.002, 0.184],\n",
       "       [0.002, 0.009, 0.006, 0.156],\n",
       "       [0.002, 0.   , 0.002, 0.026],\n",
       "       [0.587, 0.01 , 0.032, 0.069],\n",
       "       [0.   , 0.   , 0.   , 0.   ],\n",
       "       [0.098, 0.   , 0.   , 0.   ],\n",
       "       [0.   , 0.   , 0.   , 0.   ],\n",
       "       [0.023, 0.022, 0.027, 0.678],\n",
       "       [0.009, 0.583, 0.053, 0.012],\n",
       "       [0.9  , 0.003, 0.002, 0.001],\n",
       "       [0.   , 0.   , 0.   , 0.   ],\n",
       "       [0.   , 0.   , 0.   , 0.   ],\n",
       "       [0.08 , 0.021, 0.806, 0.096],\n",
       "       [0.246, 0.983, 0.258, 0.198],\n",
       "       [0.   , 0.   , 0.   , 0.   ]])"
      ]
     },
     "execution_count": 27,
     "metadata": {},
     "output_type": "execute_result"
    }
   ],
   "source": [
    "q_table_is_slippery_solved = np.round(Q_table,3)\n",
    "q_table_is_slippery_solved"
   ]
  },
  {
   "cell_type": "code",
   "execution_count": null,
   "metadata": {},
   "outputs": [],
   "source": []
  }
 ],
 "metadata": {
  "kernelspec": {
   "display_name": "Python 3",
   "language": "python",
   "name": "python3"
  },
  "language_info": {
   "codemirror_mode": {
    "name": "ipython",
    "version": 3
   },
   "file_extension": ".py",
   "mimetype": "text/x-python",
   "name": "python",
   "nbconvert_exporter": "python",
   "pygments_lexer": "ipython3",
   "version": "3.6.6"
  }
 },
 "nbformat": 4,
 "nbformat_minor": 2
}
