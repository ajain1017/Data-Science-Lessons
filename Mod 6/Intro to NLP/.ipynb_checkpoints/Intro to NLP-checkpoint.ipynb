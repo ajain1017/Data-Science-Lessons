{
 "cells": [
  {
   "cell_type": "markdown",
   "metadata": {
    "slideshow": {
     "slide_type": "slide"
    }
   },
   "source": [
    "# <center> Natural Language Processing (NLP) "
   ]
  },
  {
   "cell_type": "markdown",
   "metadata": {
    "slideshow": {
     "slide_type": "subslide"
    }
   },
   "source": [
    "### <center> Applications</center>\n",
    "<center>\n",
    "- Translation <br>\n",
    "- Sentiment analysis <br>\n",
    "- Question answering <br>\n",
    "- Chatbots \n",
    "   "
   ]
  },
  {
   "cell_type": "markdown",
   "metadata": {
    "slideshow": {
     "slide_type": "slide"
    }
   },
   "source": [
    "### <center> Challenges of NLP\n",
    "\n",
    "Difficult to understand meaning for a computer:\n",
    "\n",
    "    I was led to believe that the Fyre Festival would be an amazing, transcendent event - I was conned.\n",
    "\n",
    "Ambiguity because of lack of context (meaning or semantics):\n",
    "\n",
    "    The pipe couldn't fit through the hole in the wall since it was too big.\n",
    "\n",
    "versus:\n",
    "\n",
    "    The pipe couldn't fit through the hole in the wall since it was too small.\n",
    "\n"
   ]
  },
  {
   "cell_type": "markdown",
   "metadata": {
    "slideshow": {
     "slide_type": "slide"
    }
   },
   "source": [
    "## <center> NLTK"
   ]
  },
  {
   "cell_type": "code",
   "execution_count": 1,
   "metadata": {
    "slideshow": {
     "slide_type": "subslide"
    }
   },
   "outputs": [],
   "source": [
    "import nltk"
   ]
  },
  {
   "cell_type": "markdown",
   "metadata": {
    "slideshow": {
     "slide_type": "slide"
    }
   },
   "source": [
    "### <center> Tokenization"
   ]
  },
  {
   "cell_type": "code",
   "execution_count": 2,
   "metadata": {
    "slideshow": {
     "slide_type": "subslide"
    }
   },
   "outputs": [
    {
     "data": {
      "text/plain": [
       "['This', 'is', 'a', 'sentence', 'with', '7', 'words', '.']"
      ]
     },
     "execution_count": 2,
     "metadata": {},
     "output_type": "execute_result"
    }
   ],
   "source": [
    "sentence = \"This is a sentence with 7 words.\"\n",
    "nltk.word_tokenize(sentence)"
   ]
  },
  {
   "cell_type": "code",
   "execution_count": 3,
   "metadata": {
    "slideshow": {
     "slide_type": "subslide"
    }
   },
   "outputs": [
    {
     "data": {
      "text/plain": [
       "['This is a sentence.',\n",
       " 'This is another sentence.',\n",
       " 'This is a third sentence']"
      ]
     },
     "execution_count": 3,
     "metadata": {},
     "output_type": "execute_result"
    }
   ],
   "source": [
    "paragraph = \"This is a sentence. This is another sentence. This is a third sentence\"\n",
    "nltk.sent_tokenize(paragraph)"
   ]
  },
  {
   "cell_type": "markdown",
   "metadata": {
    "slideshow": {
     "slide_type": "slide"
    }
   },
   "source": [
    "### <center> Remove punctuation "
   ]
  },
  {
   "cell_type": "code",
   "execution_count": 4,
   "metadata": {
    "slideshow": {
     "slide_type": "subslide"
    }
   },
   "outputs": [],
   "source": [
    "import string\n",
    "sentence_stripped = sentence.translate(str.maketrans('', '', string.punctuation))"
   ]
  },
  {
   "cell_type": "code",
   "execution_count": 5,
   "metadata": {},
   "outputs": [
    {
     "data": {
      "text/plain": [
       "['This', 'is', 'a', 'sentence', 'with', '7', 'words']"
      ]
     },
     "execution_count": 5,
     "metadata": {},
     "output_type": "execute_result"
    }
   ],
   "source": [
    "nltk.word_tokenize(sentence_stripped)"
   ]
  },
  {
   "cell_type": "markdown",
   "metadata": {
    "slideshow": {
     "slide_type": "slide"
    }
   },
   "source": [
    "### <center> Stop words</center>\n",
    "<center> Stop words = noise/common words"
   ]
  },
  {
   "cell_type": "code",
   "execution_count": 6,
   "metadata": {
    "slideshow": {
     "slide_type": "subslide"
    }
   },
   "outputs": [
    {
     "name": "stdout",
     "output_type": "stream",
     "text": [
      "{'yourselves', 'or', 'these', \"you'd\", 'i', 'out', 'again', 'just', 'doing', 'over', 'in', 'mustn', \"hasn't\", 'each', 'our', \"weren't\", 'by', 'through', 'at', 'about', 'here', 'when', 'then', 'don', 'from', 'above', 'she', 'itself', 'should', 'o', 're', \"haven't\", 'themselves', 'theirs', 'hers', \"shan't\", 'yourself', 'wouldn', 'during', \"doesn't\", 'myself', 'once', 'isn', 'my', 'before', 'down', 'the', 'if', 'as', 'hadn', 'their', 'with', 'most', 'under', 'y', \"wouldn't\", 'yours', 'them', 'won', 'they', 'weren', \"you've\", 'too', 'that', 'you', 'now', 'any', 'which', 'who', 'we', 'is', 'his', 'does', 'm', 'below', 'to', 'how', 'both', 'd', 's', 'are', 'an', \"that'll\", 'were', 'of', 'doesn', 'what', \"wasn't\", 'on', 'further', 'be', \"it's\", 'ma', 'himself', \"didn't\", 'this', 'can', \"you'll\", 'was', \"you're\", 'he', 'having', 'not', 'so', 'had', 'being', \"couldn't\", \"won't\", \"aren't\", 'herself', 'couldn', 'up', 'same', \"mightn't\", 'shan', 'because', 'her', 'only', 'll', 'aren', 'him', 'your', \"should've\", 'ourselves', 'been', 'and', 'other', 'no', 'all', 't', 'where', 'whom', 'but', 'after', 'there', \"mustn't\", 'has', \"she's\", 'nor', 'than', 'those', 'some', \"hadn't\", 'its', 'against', 'will', 'ain', 'did', 'needn', 'wasn', 'into', 'between', 'more', 'shouldn', \"isn't\", 'until', \"don't\", 'why', 'hasn', 've', 'have', 'mightn', 'do', 'very', 'haven', \"needn't\", 'didn', 'such', 'it', 'ours', 'while', 'own', 'off', 'a', 'for', \"shouldn't\", 'few', 'am', 'me'}\n"
     ]
    },
    {
     "name": "stderr",
     "output_type": "stream",
     "text": [
      "[nltk_data] Downloading package stopwords to\n",
      "[nltk_data]     /Users/Anubhav/nltk_data...\n",
      "[nltk_data]   Package stopwords is already up-to-date!\n"
     ]
    }
   ],
   "source": [
    "nltk.download('stopwords')\n",
    "stop_words=set(nltk.corpus.stopwords.words(\"english\"))\n",
    "print(stop_words)"
   ]
  },
  {
   "cell_type": "code",
   "execution_count": 7,
   "metadata": {
    "slideshow": {
     "slide_type": "slide"
    }
   },
   "outputs": [
    {
     "data": {
      "text/plain": [
       "['Hello', 'Mr', 'Smith', 'How', 'today']"
      ]
     },
     "execution_count": 7,
     "metadata": {},
     "output_type": "execute_result"
    }
   ],
   "source": [
    "sentence = \"Hello Mr. Smith. How are you doing today?\"\n",
    "sentence_stripped = sentence.translate(str.maketrans('', '', string.punctuation))\n",
    "tokens = nltk.word_tokenize(sentence_stripped)\n",
    "filtered_tokens = [x for x in tokens if x not in stop_words]\n",
    "filtered_tokens"
   ]
  },
  {
   "cell_type": "markdown",
   "metadata": {
    "slideshow": {
     "slide_type": "slide"
    }
   },
   "source": [
    "### <center> Stemming </center>\n",
    "<center> Reducing words to their roots"
   ]
  },
  {
   "cell_type": "code",
   "execution_count": 8,
   "metadata": {
    "slideshow": {
     "slide_type": "subslide"
    }
   },
   "outputs": [],
   "source": [
    "ps = nltk.stem.PorterStemmer()"
   ]
  },
  {
   "cell_type": "code",
   "execution_count": 9,
   "metadata": {
    "slideshow": {
     "slide_type": "subslide"
    }
   },
   "outputs": [
    {
     "data": {
      "text/plain": [
       "'run'"
      ]
     },
     "execution_count": 9,
     "metadata": {},
     "output_type": "execute_result"
    }
   ],
   "source": [
    "ps.stem(\"running\")"
   ]
  },
  {
   "cell_type": "markdown",
   "metadata": {
    "slideshow": {
     "slide_type": "slide"
    }
   },
   "source": [
    "### <center> Lemmatization </center>\n",
    "<center> Reducing words to their base words"
   ]
  },
  {
   "cell_type": "code",
   "execution_count": 10,
   "metadata": {
    "slideshow": {
     "slide_type": "subslide"
    }
   },
   "outputs": [],
   "source": [
    "lem = nltk.stem.wordnet.WordNetLemmatizer()"
   ]
  },
  {
   "cell_type": "code",
   "execution_count": 11,
   "metadata": {
    "slideshow": {
     "slide_type": "subslide"
    }
   },
   "outputs": [
    {
     "name": "stderr",
     "output_type": "stream",
     "text": [
      "[nltk_data] Downloading package wordnet to /Users/Anubhav/nltk_data...\n",
      "[nltk_data]   Package wordnet is already up-to-date!\n"
     ]
    },
    {
     "data": {
      "text/plain": [
       "('fly', 'fli')"
      ]
     },
     "execution_count": 11,
     "metadata": {},
     "output_type": "execute_result"
    }
   ],
   "source": [
    "nltk.download('wordnet')\n",
    "lem.lemmatize(\"flying\", \"v\"), ps.stem(\"flying\")"
   ]
  },
  {
   "cell_type": "code",
   "execution_count": 12,
   "metadata": {
    "slideshow": {
     "slide_type": "subslide"
    }
   },
   "outputs": [
    {
     "data": {
      "text/plain": [
       "'good'"
      ]
     },
     "execution_count": 12,
     "metadata": {},
     "output_type": "execute_result"
    }
   ],
   "source": [
    "lem.lemmatize(\"better\", \"a\")"
   ]
  },
  {
   "cell_type": "markdown",
   "metadata": {
    "slideshow": {
     "slide_type": "slide"
    }
   },
   "source": [
    "### <center> Part of Speech Tagging "
   ]
  },
  {
   "cell_type": "code",
   "execution_count": 13,
   "metadata": {
    "slideshow": {
     "slide_type": "subslide"
    }
   },
   "outputs": [
    {
     "name": "stderr",
     "output_type": "stream",
     "text": [
      "[nltk_data] Downloading package averaged_perceptron_tagger to\n",
      "[nltk_data]     /Users/Anubhav/nltk_data...\n",
      "[nltk_data]   Package averaged_perceptron_tagger is already up-to-\n",
      "[nltk_data]       date!\n"
     ]
    },
    {
     "data": {
      "text/plain": [
       "[('Albert', 'NNP'),\n",
       " ('Einstein', 'NNP'),\n",
       " ('was', 'VBD'),\n",
       " ('born', 'VBN'),\n",
       " ('in', 'IN'),\n",
       " ('Ulm', 'NNP'),\n",
       " (',', ','),\n",
       " ('Germany', 'NNP'),\n",
       " ('in', 'IN'),\n",
       " ('1879', 'CD'),\n",
       " ('.', '.')]"
      ]
     },
     "execution_count": 13,
     "metadata": {},
     "output_type": "execute_result"
    }
   ],
   "source": [
    "nltk.download('averaged_perceptron_tagger')\n",
    "sent = \"Albert Einstein was born in Ulm, Germany in 1879.\"\n",
    "tokens = nltk.word_tokenize(sent)\n",
    "nltk.pos_tag(tokens)"
   ]
  },
  {
   "cell_type": "markdown",
   "metadata": {
    "slideshow": {
     "slide_type": "slide"
    }
   },
   "source": [
    "### <center> TF-IDF </center>\n",
    "<center> Term Frequency-Inverse Document Frequency"
   ]
  },
  {
   "cell_type": "markdown",
   "metadata": {
    "slideshow": {
     "slide_type": "subslide"
    }
   },
   "source": [
    "<center><img src=\"tfidf.png\" height=600 width=600>"
   ]
  },
  {
   "cell_type": "code",
   "execution_count": 14,
   "metadata": {
    "slideshow": {
     "slide_type": "subslide"
    }
   },
   "outputs": [],
   "source": [
    "from sklearn.feature_extraction.text import TfidfVectorizer"
   ]
  },
  {
   "cell_type": "code",
   "execution_count": 15,
   "metadata": {
    "slideshow": {
     "slide_type": "subslide"
    }
   },
   "outputs": [],
   "source": [
    "def tokenize(text):\n",
    "    tokens = nltk.word_tokenize(text)\n",
    "    stems = []\n",
    "    for item in tokens:\n",
    "        stems.append(nltk.stem.PorterStemmer().stem(item))\n",
    "    return stems"
   ]
  },
  {
   "cell_type": "code",
   "execution_count": 16,
   "metadata": {
    "slideshow": {
     "slide_type": "subslide"
    }
   },
   "outputs": [],
   "source": [
    "tf_idf_vec = TfidfVectorizer(tokenizer=tokenize, stop_words='english')"
   ]
  },
  {
   "cell_type": "code",
   "execution_count": 17,
   "metadata": {
    "slideshow": {
     "slide_type": "slide"
    }
   },
   "outputs": [],
   "source": [
    "import os \n",
    "token_dict = {}\n",
    "for dirpath, dirs, files in os.walk('Steinbeck'):\n",
    "    for f in files:\n",
    "        fname = os.path.join(dirpath, f)\n",
    "        print(fname)\n",
    "        with open(fname) as pearl:\n",
    "            text = pearl.read()\n",
    "            token_dict[f] = text.lower().translate(str.maketrans('', '', string.punctuation))"
   ]
  },
  {
   "cell_type": "code",
   "execution_count": 18,
   "metadata": {
    "slideshow": {
     "slide_type": "slide"
    }
   },
   "outputs": [
    {
     "name": "stderr",
     "output_type": "stream",
     "text": [
      "//anaconda3/lib/python3.7/site-packages/sklearn/feature_extraction/text.py:385: UserWarning: Your stop_words may be inconsistent with your preprocessing. Tokenizing the stop words generated tokens ['abov', 'afterward', 'alon', 'alreadi', 'alway', 'ani', 'anoth', 'anyon', 'anyth', 'anywher', 'becam', 'becaus', 'becom', 'befor', 'besid', 'cri', 'describ', 'dure', 'els', 'elsewher', 'empti', 'everi', 'everyon', 'everyth', 'everywher', 'fifti', 'formerli', 'forti', 'ha', 'henc', 'hereaft', 'herebi', 'hi', 'howev', 'hundr', 'inde', 'latterli', 'mani', 'meanwhil', 'moreov', 'mostli', 'nobodi', 'noon', 'noth', 'nowher', 'onc', 'onli', 'otherwis', 'ourselv', 'perhap', 'pleas', 'seriou', 'sever', 'sinc', 'sincer', 'sixti', 'someon', 'someth', 'sometim', 'somewher', 'themselv', 'thenc', 'thereaft', 'therebi', 'therefor', 'thi', 'thu', 'togeth', 'twelv', 'twenti', 'veri', 'wa', 'whatev', 'whenc', 'whenev', 'wherea', 'whereaft', 'wherebi', 'wherev', 'whi', 'yourselv'] not in stop_words.\n",
      "  'stop_words.' % sorted(inconsistent))\n"
     ]
    },
    {
     "ename": "ValueError",
     "evalue": "empty vocabulary; perhaps the documents only contain stop words",
     "output_type": "error",
     "traceback": [
      "\u001b[0;31m---------------------------------------------------------------------------\u001b[0m",
      "\u001b[0;31mValueError\u001b[0m                                Traceback (most recent call last)",
      "\u001b[0;32m<ipython-input-18-1c517f8a968b>\u001b[0m in \u001b[0;36m<module>\u001b[0;34m\u001b[0m\n\u001b[0;32m----> 1\u001b[0;31m \u001b[0mtf_idf_vec\u001b[0m\u001b[0;34m.\u001b[0m\u001b[0mfit_transform\u001b[0m\u001b[0;34m(\u001b[0m\u001b[0mtoken_dict\u001b[0m\u001b[0;34m.\u001b[0m\u001b[0mvalues\u001b[0m\u001b[0;34m(\u001b[0m\u001b[0;34m)\u001b[0m\u001b[0;34m)\u001b[0m\u001b[0;34m\u001b[0m\u001b[0;34m\u001b[0m\u001b[0m\n\u001b[0m",
      "\u001b[0;32m//anaconda3/lib/python3.7/site-packages/sklearn/feature_extraction/text.py\u001b[0m in \u001b[0;36mfit_transform\u001b[0;34m(self, raw_documents, y)\u001b[0m\n\u001b[1;32m   1857\u001b[0m         \"\"\"\n\u001b[1;32m   1858\u001b[0m         \u001b[0mself\u001b[0m\u001b[0;34m.\u001b[0m\u001b[0m_check_params\u001b[0m\u001b[0;34m(\u001b[0m\u001b[0;34m)\u001b[0m\u001b[0;34m\u001b[0m\u001b[0;34m\u001b[0m\u001b[0m\n\u001b[0;32m-> 1859\u001b[0;31m         \u001b[0mX\u001b[0m \u001b[0;34m=\u001b[0m \u001b[0msuper\u001b[0m\u001b[0;34m(\u001b[0m\u001b[0;34m)\u001b[0m\u001b[0;34m.\u001b[0m\u001b[0mfit_transform\u001b[0m\u001b[0;34m(\u001b[0m\u001b[0mraw_documents\u001b[0m\u001b[0;34m)\u001b[0m\u001b[0;34m\u001b[0m\u001b[0;34m\u001b[0m\u001b[0m\n\u001b[0m\u001b[1;32m   1860\u001b[0m         \u001b[0mself\u001b[0m\u001b[0;34m.\u001b[0m\u001b[0m_tfidf\u001b[0m\u001b[0;34m.\u001b[0m\u001b[0mfit\u001b[0m\u001b[0;34m(\u001b[0m\u001b[0mX\u001b[0m\u001b[0;34m)\u001b[0m\u001b[0;34m\u001b[0m\u001b[0;34m\u001b[0m\u001b[0m\n\u001b[1;32m   1861\u001b[0m         \u001b[0;31m# X is already a transformed view of raw_documents so\u001b[0m\u001b[0;34m\u001b[0m\u001b[0;34m\u001b[0m\u001b[0;34m\u001b[0m\u001b[0m\n",
      "\u001b[0;32m//anaconda3/lib/python3.7/site-packages/sklearn/feature_extraction/text.py\u001b[0m in \u001b[0;36mfit_transform\u001b[0;34m(self, raw_documents, y)\u001b[0m\n\u001b[1;32m   1218\u001b[0m \u001b[0;34m\u001b[0m\u001b[0m\n\u001b[1;32m   1219\u001b[0m         vocabulary, X = self._count_vocab(raw_documents,\n\u001b[0;32m-> 1220\u001b[0;31m                                           self.fixed_vocabulary_)\n\u001b[0m\u001b[1;32m   1221\u001b[0m \u001b[0;34m\u001b[0m\u001b[0m\n\u001b[1;32m   1222\u001b[0m         \u001b[0;32mif\u001b[0m \u001b[0mself\u001b[0m\u001b[0;34m.\u001b[0m\u001b[0mbinary\u001b[0m\u001b[0;34m:\u001b[0m\u001b[0;34m\u001b[0m\u001b[0;34m\u001b[0m\u001b[0m\n",
      "\u001b[0;32m//anaconda3/lib/python3.7/site-packages/sklearn/feature_extraction/text.py\u001b[0m in \u001b[0;36m_count_vocab\u001b[0;34m(self, raw_documents, fixed_vocab)\u001b[0m\n\u001b[1;32m   1148\u001b[0m             \u001b[0mvocabulary\u001b[0m \u001b[0;34m=\u001b[0m \u001b[0mdict\u001b[0m\u001b[0;34m(\u001b[0m\u001b[0mvocabulary\u001b[0m\u001b[0;34m)\u001b[0m\u001b[0;34m\u001b[0m\u001b[0;34m\u001b[0m\u001b[0m\n\u001b[1;32m   1149\u001b[0m             \u001b[0;32mif\u001b[0m \u001b[0;32mnot\u001b[0m \u001b[0mvocabulary\u001b[0m\u001b[0;34m:\u001b[0m\u001b[0;34m\u001b[0m\u001b[0;34m\u001b[0m\u001b[0m\n\u001b[0;32m-> 1150\u001b[0;31m                 raise ValueError(\"empty vocabulary; perhaps the documents only\"\n\u001b[0m\u001b[1;32m   1151\u001b[0m                                  \" contain stop words\")\n\u001b[1;32m   1152\u001b[0m \u001b[0;34m\u001b[0m\u001b[0m\n",
      "\u001b[0;31mValueError\u001b[0m: empty vocabulary; perhaps the documents only contain stop words"
     ]
    }
   ],
   "source": [
    "tf_idf_vec.fit_transform(token_dict.values())"
   ]
  },
  {
   "cell_type": "code",
   "execution_count": null,
   "metadata": {
    "slideshow": {
     "slide_type": "slide"
    }
   },
   "outputs": [],
   "source": [
    "phrase = 'all great and precious things are lonely.'\n",
    "response = tf_idf_vec.transform([phrase])\n",
    "print(response)"
   ]
  },
  {
   "cell_type": "code",
   "execution_count": null,
   "metadata": {
    "slideshow": {
     "slide_type": "slide"
    }
   },
   "outputs": [],
   "source": [
    "tf_idf_vec.get_feature_names()[1143]"
   ]
  },
  {
   "cell_type": "markdown",
   "metadata": {
    "slideshow": {
     "slide_type": "slide"
    }
   },
   "source": [
    "### <center> Artist Lyric Classification Example"
   ]
  },
  {
   "cell_type": "code",
   "execution_count": 19,
   "metadata": {
    "slideshow": {
     "slide_type": "slide"
    }
   },
   "outputs": [
    {
     "data": {
      "text/html": [
       "<div>\n",
       "<style scoped>\n",
       "    .dataframe tbody tr th:only-of-type {\n",
       "        vertical-align: middle;\n",
       "    }\n",
       "\n",
       "    .dataframe tbody tr th {\n",
       "        vertical-align: top;\n",
       "    }\n",
       "\n",
       "    .dataframe thead th {\n",
       "        text-align: right;\n",
       "    }\n",
       "</style>\n",
       "<table border=\"1\" class=\"dataframe\">\n",
       "  <thead>\n",
       "    <tr style=\"text-align: right;\">\n",
       "      <th></th>\n",
       "      <th>index</th>\n",
       "      <th>song</th>\n",
       "      <th>year</th>\n",
       "      <th>artist</th>\n",
       "      <th>genre</th>\n",
       "      <th>lyrics</th>\n",
       "    </tr>\n",
       "  </thead>\n",
       "  <tbody>\n",
       "    <tr>\n",
       "      <th>0</th>\n",
       "      <td>0</td>\n",
       "      <td>ego-remix</td>\n",
       "      <td>2009</td>\n",
       "      <td>beyonce-knowles</td>\n",
       "      <td>Pop</td>\n",
       "      <td>Oh baby, how you doing?\\nYou know I'm gonna cu...</td>\n",
       "    </tr>\n",
       "    <tr>\n",
       "      <th>1</th>\n",
       "      <td>1</td>\n",
       "      <td>then-tell-me</td>\n",
       "      <td>2009</td>\n",
       "      <td>beyonce-knowles</td>\n",
       "      <td>Pop</td>\n",
       "      <td>playin' everything so easy,\\nit's like you see...</td>\n",
       "    </tr>\n",
       "    <tr>\n",
       "      <th>2</th>\n",
       "      <td>2</td>\n",
       "      <td>honesty</td>\n",
       "      <td>2009</td>\n",
       "      <td>beyonce-knowles</td>\n",
       "      <td>Pop</td>\n",
       "      <td>If you search\\nFor tenderness\\nIt isn't hard t...</td>\n",
       "    </tr>\n",
       "    <tr>\n",
       "      <th>3</th>\n",
       "      <td>3</td>\n",
       "      <td>you-are-my-rock</td>\n",
       "      <td>2009</td>\n",
       "      <td>beyonce-knowles</td>\n",
       "      <td>Pop</td>\n",
       "      <td>Oh oh oh I, oh oh oh I\\n[Verse 1:]\\nIf I wrote...</td>\n",
       "    </tr>\n",
       "    <tr>\n",
       "      <th>4</th>\n",
       "      <td>4</td>\n",
       "      <td>black-culture</td>\n",
       "      <td>2009</td>\n",
       "      <td>beyonce-knowles</td>\n",
       "      <td>Pop</td>\n",
       "      <td>Party the people, the people the party it's po...</td>\n",
       "    </tr>\n",
       "  </tbody>\n",
       "</table>\n",
       "</div>"
      ],
      "text/plain": [
       "   index             song  year           artist genre  \\\n",
       "0      0        ego-remix  2009  beyonce-knowles   Pop   \n",
       "1      1     then-tell-me  2009  beyonce-knowles   Pop   \n",
       "2      2          honesty  2009  beyonce-knowles   Pop   \n",
       "3      3  you-are-my-rock  2009  beyonce-knowles   Pop   \n",
       "4      4    black-culture  2009  beyonce-knowles   Pop   \n",
       "\n",
       "                                              lyrics  \n",
       "0  Oh baby, how you doing?\\nYou know I'm gonna cu...  \n",
       "1  playin' everything so easy,\\nit's like you see...  \n",
       "2  If you search\\nFor tenderness\\nIt isn't hard t...  \n",
       "3  Oh oh oh I, oh oh oh I\\n[Verse 1:]\\nIf I wrote...  \n",
       "4  Party the people, the people the party it's po...  "
      ]
     },
     "execution_count": 19,
     "metadata": {},
     "output_type": "execute_result"
    }
   ],
   "source": [
    "import pandas as pd\n",
    "import numpy as np\n",
    "df = pd.read_csv('lyrics.csv')\n",
    "df.head()"
   ]
  },
  {
   "cell_type": "code",
   "execution_count": 20,
   "metadata": {
    "slideshow": {
     "slide_type": "subslide"
    }
   },
   "outputs": [],
   "source": [
    "df.dropna(inplace=True)"
   ]
  },
  {
   "cell_type": "code",
   "execution_count": 21,
   "metadata": {
    "slideshow": {
     "slide_type": "subslide"
    }
   },
   "outputs": [
    {
     "data": {
      "text/plain": [
       "248"
      ]
     },
     "execution_count": 21,
     "metadata": {},
     "output_type": "execute_result"
    }
   ],
   "source": [
    "len(df[df['artist']=='beyonce-knowles'])"
   ]
  },
  {
   "cell_type": "code",
   "execution_count": 22,
   "metadata": {
    "slideshow": {
     "slide_type": "subslide"
    }
   },
   "outputs": [],
   "source": [
    "beyonce = df[df['artist']=='beyonce-knowles'].sample(30).index"
   ]
  },
  {
   "cell_type": "code",
   "execution_count": 23,
   "metadata": {
    "slideshow": {
     "slide_type": "subslide"
    }
   },
   "outputs": [],
   "source": [
    "barbara = df[df['artist']=='barbra-streisand'].sample(30).index"
   ]
  },
  {
   "cell_type": "code",
   "execution_count": 24,
   "metadata": {
    "slideshow": {
     "slide_type": "subslide"
    }
   },
   "outputs": [],
   "source": [
    "data = df[df.index.isin(beyonce) | df.index.isin(barbara)]"
   ]
  },
  {
   "cell_type": "code",
   "execution_count": 25,
   "metadata": {
    "slideshow": {
     "slide_type": "subslide"
    }
   },
   "outputs": [
    {
     "data": {
      "text/html": [
       "<div>\n",
       "<style scoped>\n",
       "    .dataframe tbody tr th:only-of-type {\n",
       "        vertical-align: middle;\n",
       "    }\n",
       "\n",
       "    .dataframe tbody tr th {\n",
       "        vertical-align: top;\n",
       "    }\n",
       "\n",
       "    .dataframe thead th {\n",
       "        text-align: right;\n",
       "    }\n",
       "</style>\n",
       "<table border=\"1\" class=\"dataframe\">\n",
       "  <thead>\n",
       "    <tr style=\"text-align: right;\">\n",
       "      <th></th>\n",
       "      <th>index</th>\n",
       "      <th>song</th>\n",
       "      <th>year</th>\n",
       "      <th>artist</th>\n",
       "      <th>genre</th>\n",
       "      <th>lyrics</th>\n",
       "    </tr>\n",
       "  </thead>\n",
       "  <tbody>\n",
       "    <tr>\n",
       "      <th>7</th>\n",
       "      <td>7</td>\n",
       "      <td>waiting</td>\n",
       "      <td>2009</td>\n",
       "      <td>beyonce-knowles</td>\n",
       "      <td>Pop</td>\n",
       "      <td>Waiting, waiting, waiting, waiting\\nWaiting, w...</td>\n",
       "    </tr>\n",
       "    <tr>\n",
       "      <th>10</th>\n",
       "      <td>10</td>\n",
       "      <td>save-the-hero</td>\n",
       "      <td>2009</td>\n",
       "      <td>beyonce-knowles</td>\n",
       "      <td>Pop</td>\n",
       "      <td>I lay alone awake at night\\nSorrow fills my ey...</td>\n",
       "    </tr>\n",
       "    <tr>\n",
       "      <th>18</th>\n",
       "      <td>18</td>\n",
       "      <td>beautiful-liar</td>\n",
       "      <td>2007</td>\n",
       "      <td>beyonce-knowles</td>\n",
       "      <td>Pop</td>\n",
       "      <td>Ay\\nAy\\nAy (Nobody likes to be played)\\nOh, Be...</td>\n",
       "    </tr>\n",
       "    <tr>\n",
       "      <th>25</th>\n",
       "      <td>25</td>\n",
       "      <td>irreplable</td>\n",
       "      <td>2007</td>\n",
       "      <td>beyonce-knowles</td>\n",
       "      <td>Pop</td>\n",
       "      <td>To the left, to the left\\nTo the left, to the ...</td>\n",
       "    </tr>\n",
       "    <tr>\n",
       "      <th>31</th>\n",
       "      <td>31</td>\n",
       "      <td>bello-embustero-beautiful-liar-spanish-version</td>\n",
       "      <td>2007</td>\n",
       "      <td>beyonce-knowles</td>\n",
       "      <td>Pop</td>\n",
       "      <td>Ay! Ay! Ay!\\nOh! Beyonce, Beyonce\\nOh! Beyonce...</td>\n",
       "    </tr>\n",
       "  </tbody>\n",
       "</table>\n",
       "</div>"
      ],
      "text/plain": [
       "    index                                            song  year  \\\n",
       "7       7                                         waiting  2009   \n",
       "10     10                                   save-the-hero  2009   \n",
       "18     18                                  beautiful-liar  2007   \n",
       "25     25                                      irreplable  2007   \n",
       "31     31  bello-embustero-beautiful-liar-spanish-version  2007   \n",
       "\n",
       "             artist genre                                             lyrics  \n",
       "7   beyonce-knowles   Pop  Waiting, waiting, waiting, waiting\\nWaiting, w...  \n",
       "10  beyonce-knowles   Pop  I lay alone awake at night\\nSorrow fills my ey...  \n",
       "18  beyonce-knowles   Pop  Ay\\nAy\\nAy (Nobody likes to be played)\\nOh, Be...  \n",
       "25  beyonce-knowles   Pop  To the left, to the left\\nTo the left, to the ...  \n",
       "31  beyonce-knowles   Pop  Ay! Ay! Ay!\\nOh! Beyonce, Beyonce\\nOh! Beyonce...  "
      ]
     },
     "execution_count": 25,
     "metadata": {},
     "output_type": "execute_result"
    }
   ],
   "source": [
    "data.head()"
   ]
  },
  {
   "cell_type": "code",
   "execution_count": 26,
   "metadata": {
    "slideshow": {
     "slide_type": "subslide"
    }
   },
   "outputs": [
    {
     "data": {
      "text/html": [
       "<div>\n",
       "<style scoped>\n",
       "    .dataframe tbody tr th:only-of-type {\n",
       "        vertical-align: middle;\n",
       "    }\n",
       "\n",
       "    .dataframe tbody tr th {\n",
       "        vertical-align: top;\n",
       "    }\n",
       "\n",
       "    .dataframe thead th {\n",
       "        text-align: right;\n",
       "    }\n",
       "</style>\n",
       "<table border=\"1\" class=\"dataframe\">\n",
       "  <thead>\n",
       "    <tr style=\"text-align: right;\">\n",
       "      <th></th>\n",
       "      <th>artist</th>\n",
       "      <th>lyrics</th>\n",
       "    </tr>\n",
       "  </thead>\n",
       "  <tbody>\n",
       "    <tr>\n",
       "      <th>7</th>\n",
       "      <td>beyonce-knowles</td>\n",
       "      <td>Waiting, waiting, waiting, waiting\\nWaiting, w...</td>\n",
       "    </tr>\n",
       "    <tr>\n",
       "      <th>10</th>\n",
       "      <td>beyonce-knowles</td>\n",
       "      <td>I lay alone awake at night\\nSorrow fills my ey...</td>\n",
       "    </tr>\n",
       "    <tr>\n",
       "      <th>18</th>\n",
       "      <td>beyonce-knowles</td>\n",
       "      <td>Ay\\nAy\\nAy (Nobody likes to be played)\\nOh, Be...</td>\n",
       "    </tr>\n",
       "    <tr>\n",
       "      <th>25</th>\n",
       "      <td>beyonce-knowles</td>\n",
       "      <td>To the left, to the left\\nTo the left, to the ...</td>\n",
       "    </tr>\n",
       "    <tr>\n",
       "      <th>31</th>\n",
       "      <td>beyonce-knowles</td>\n",
       "      <td>Ay! Ay! Ay!\\nOh! Beyonce, Beyonce\\nOh! Beyonce...</td>\n",
       "    </tr>\n",
       "  </tbody>\n",
       "</table>\n",
       "</div>"
      ],
      "text/plain": [
       "             artist                                             lyrics\n",
       "7   beyonce-knowles  Waiting, waiting, waiting, waiting\\nWaiting, w...\n",
       "10  beyonce-knowles  I lay alone awake at night\\nSorrow fills my ey...\n",
       "18  beyonce-knowles  Ay\\nAy\\nAy (Nobody likes to be played)\\nOh, Be...\n",
       "25  beyonce-knowles  To the left, to the left\\nTo the left, to the ...\n",
       "31  beyonce-knowles  Ay! Ay! Ay!\\nOh! Beyonce, Beyonce\\nOh! Beyonce..."
      ]
     },
     "execution_count": 26,
     "metadata": {},
     "output_type": "execute_result"
    }
   ],
   "source": [
    "data = data.drop(['index','song','year','genre'], axis=1)\n",
    "data.head()"
   ]
  },
  {
   "cell_type": "code",
   "execution_count": 27,
   "metadata": {
    "slideshow": {
     "slide_type": "subslide"
    }
   },
   "outputs": [
    {
     "data": {
      "text/html": [
       "<div>\n",
       "<style scoped>\n",
       "    .dataframe tbody tr th:only-of-type {\n",
       "        vertical-align: middle;\n",
       "    }\n",
       "\n",
       "    .dataframe tbody tr th {\n",
       "        vertical-align: top;\n",
       "    }\n",
       "\n",
       "    .dataframe thead th {\n",
       "        text-align: right;\n",
       "    }\n",
       "</style>\n",
       "<table border=\"1\" class=\"dataframe\">\n",
       "  <thead>\n",
       "    <tr style=\"text-align: right;\">\n",
       "      <th></th>\n",
       "      <th>artist</th>\n",
       "      <th>lyrics</th>\n",
       "    </tr>\n",
       "  </thead>\n",
       "  <tbody>\n",
       "    <tr>\n",
       "      <th>7</th>\n",
       "      <td>0</td>\n",
       "      <td>Waiting, waiting, waiting, waiting\\nWaiting, w...</td>\n",
       "    </tr>\n",
       "    <tr>\n",
       "      <th>10</th>\n",
       "      <td>0</td>\n",
       "      <td>I lay alone awake at night\\nSorrow fills my ey...</td>\n",
       "    </tr>\n",
       "    <tr>\n",
       "      <th>18</th>\n",
       "      <td>0</td>\n",
       "      <td>Ay\\nAy\\nAy (Nobody likes to be played)\\nOh, Be...</td>\n",
       "    </tr>\n",
       "    <tr>\n",
       "      <th>25</th>\n",
       "      <td>0</td>\n",
       "      <td>To the left, to the left\\nTo the left, to the ...</td>\n",
       "    </tr>\n",
       "    <tr>\n",
       "      <th>31</th>\n",
       "      <td>0</td>\n",
       "      <td>Ay! Ay! Ay!\\nOh! Beyonce, Beyonce\\nOh! Beyonce...</td>\n",
       "    </tr>\n",
       "  </tbody>\n",
       "</table>\n",
       "</div>"
      ],
      "text/plain": [
       "    artist                                             lyrics\n",
       "7        0  Waiting, waiting, waiting, waiting\\nWaiting, w...\n",
       "10       0  I lay alone awake at night\\nSorrow fills my ey...\n",
       "18       0  Ay\\nAy\\nAy (Nobody likes to be played)\\nOh, Be...\n",
       "25       0  To the left, to the left\\nTo the left, to the ...\n",
       "31       0  Ay! Ay! Ay!\\nOh! Beyonce, Beyonce\\nOh! Beyonce..."
      ]
     },
     "execution_count": 27,
     "metadata": {},
     "output_type": "execute_result"
    }
   ],
   "source": [
    "data['artist'] = [0 if x=='beyonce-knowles' else 1 for x in data['artist']]\n",
    "data.head()"
   ]
  },
  {
   "cell_type": "code",
   "execution_count": 28,
   "metadata": {
    "slideshow": {
     "slide_type": "slide"
    }
   },
   "outputs": [],
   "source": [
    "## Count Vectorizer \n",
    "from sklearn.feature_extraction.text import CountVectorizer\n",
    "matrix = CountVectorizer(max_features=10000)\n",
    "X = matrix.fit_transform(data['lyrics']).toarray()"
   ]
  },
  {
   "cell_type": "code",
   "execution_count": 29,
   "metadata": {
    "slideshow": {
     "slide_type": "subslide"
    }
   },
   "outputs": [
    {
     "data": {
      "text/plain": [
       "(1.0, 0.8333333333333334)"
      ]
     },
     "execution_count": 29,
     "metadata": {},
     "output_type": "execute_result"
    }
   ],
   "source": [
    "from sklearn.model_selection import train_test_split\n",
    "from sklearn.ensemble import RandomForestClassifier\n",
    "\n",
    "X_train, X_test, y_train, y_test = train_test_split(X, data['artist'], test_size=0.2, random_state=123)\n",
    "clf = RandomForestClassifier(random_state=123).fit(X_train, y_train)\n",
    "clf.score(X_train, y_train), clf.score(X_test, y_test)"
   ]
  },
  {
   "cell_type": "code",
   "execution_count": 30,
   "metadata": {
    "slideshow": {
     "slide_type": "slide"
    }
   },
   "outputs": [
    {
     "name": "stderr",
     "output_type": "stream",
     "text": [
      "//anaconda3/lib/python3.7/site-packages/sklearn/feature_extraction/text.py:385: UserWarning: Your stop_words may be inconsistent with your preprocessing. Tokenizing the stop words generated tokens ['abov', 'afterward', 'alon', 'alreadi', 'alway', 'ani', 'anoth', 'anyon', 'anyth', 'anywher', 'becam', 'becaus', 'becom', 'befor', 'besid', 'cri', 'describ', 'dure', 'els', 'elsewher', 'empti', 'everi', 'everyon', 'everyth', 'everywher', 'fifti', 'formerli', 'forti', 'ha', 'henc', 'hereaft', 'herebi', 'hi', 'howev', 'hundr', 'inde', 'latterli', 'mani', 'meanwhil', 'moreov', 'mostli', 'nobodi', 'noon', 'noth', 'nowher', 'onc', 'onli', 'otherwis', 'ourselv', 'perhap', 'pleas', 'seriou', 'sever', 'sinc', 'sincer', 'sixti', 'someon', 'someth', 'sometim', 'somewher', 'themselv', 'thenc', 'thereaft', 'therebi', 'therefor', 'thi', 'thu', 'togeth', 'twelv', 'twenti', 'veri', 'wa', 'whatev', 'whenc', 'whenev', 'wherea', 'whereaft', 'wherebi', 'wherev', 'whi', 'yourselv'] not in stop_words.\n",
      "  'stop_words.' % sorted(inconsistent))\n"
     ]
    }
   ],
   "source": [
    "## TF-IDF Vectorizer\n",
    "tf_idf_vec = TfidfVectorizer(tokenizer=tokenize, stop_words='english')\n",
    "vectors = tf_idf_vec.fit_transform(data['lyrics'])"
   ]
  },
  {
   "cell_type": "code",
   "execution_count": 31,
   "metadata": {
    "slideshow": {
     "slide_type": "subslide"
    }
   },
   "outputs": [
    {
     "data": {
      "text/plain": [
       "(1.0, 0.8333333333333334)"
      ]
     },
     "execution_count": 31,
     "metadata": {},
     "output_type": "execute_result"
    }
   ],
   "source": [
    "X_train, X_test, y_train, y_test = train_test_split(vectors, data['artist'], test_size=0.2, random_state=123)\n",
    "clf = RandomForestClassifier(random_state=123).fit(X_train, y_train)\n",
    "clf.score(X_train, y_train), clf.score(X_test, y_test)"
   ]
  },
  {
   "cell_type": "code",
   "execution_count": 32,
   "metadata": {
    "slideshow": {
     "slide_type": "slide"
    }
   },
   "outputs": [
    {
     "name": "stdout",
     "output_type": "stream",
     "text": [
      "('Waiting', ',')\n",
      "(',', 'waiting')\n",
      "('waiting', ',')\n",
      "(',', 'waiting')\n",
      "('waiting', ',')\n",
      "(',', 'waiting')\n",
      "('waiting', 'Waiting')\n",
      "('Waiting', ',')\n",
      "(',', 'waiting')\n",
      "('waiting', ',')\n",
      "(',', 'waiting')\n",
      "('waiting', ',')\n",
      "(',', 'waiting')\n",
      "('waiting', 'Waiting')\n",
      "('Waiting', ',')\n",
      "(',', 'waiting')\n",
      "('waiting', ',')\n",
      "(',', 'waiting')\n",
      "('waiting', ',')\n",
      "(',', 'waiting')\n",
      "('waiting', 'ooh')\n",
      "('ooh', 'Waiting')\n",
      "('Waiting', ',')\n",
      "(',', 'waiting')\n",
      "('waiting', ',')\n",
      "(',', 'waiting')\n",
      "('waiting', ',')\n",
      "(',', 'waiting')\n",
      "('waiting', 'It')\n",
      "('It', \"'s\")\n",
      "(\"'s\", '6')\n",
      "('6', \"o'clock\")\n",
      "(\"o'clock\", 'and')\n",
      "('and', 'seconds')\n",
      "('seconds', 'feel')\n",
      "('feel', 'like')\n",
      "('like', 'hours')\n",
      "('hours', 'as')\n",
      "('as', 'I')\n",
      "('I', 'sit')\n",
      "('sit', 'here')\n",
      "('here', 'and')\n",
      "('and', 'watch')\n",
      "('watch', 'them')\n",
      "('them', 'tick')\n",
      "('tick', 'away')\n",
      "('away', 'And')\n",
      "('And', 'just')\n",
      "('just', 'the')\n",
      "('the', 'thought')\n",
      "('thought', 'of')\n",
      "('of', 'seeing')\n",
      "('seeing', 'you')\n",
      "('you', 'again')\n",
      "('again', 'I')\n",
      "('I', 'wan')\n",
      "('wan', 'na')\n",
      "('na', 'sing')\n",
      "('sing', 'I')\n",
      "('I', \"'ve\")\n",
      "(\"'ve\", 'been')\n",
      "('been', 'longing')\n",
      "('longing', 'for')\n",
      "('for', 'this')\n",
      "('this', 'day')\n",
      "('day', 'I')\n",
      "('I', \"'ll\")\n",
      "(\"'ll\", 'be')\n",
      "('be', 'waiting')\n",
      "('waiting', \"'cause\")\n",
      "(\"'cause\", 'I')\n",
      "('I', 'cant')\n",
      "('cant', 'smile')\n",
      "('smile', 'untill')\n",
      "('untill', 'I')\n",
      "('I', 'see')\n",
      "('see', 'your')\n",
      "('your', 'smile')\n",
      "('smile', 'I')\n",
      "('I', \"'ll\")\n",
      "(\"'ll\", 'be')\n",
      "('be', 'waiting')\n",
      "('waiting', 'there')\n",
      "('there', \"'s\")\n",
      "(\"'s\", 'nothing')\n",
      "('nothing', 'else')\n",
      "('else', 'that')\n",
      "('that', 'I')\n",
      "('I', 'would')\n",
      "('would', 'rather')\n",
      "('rather', 'do')\n",
      "('do', 'I')\n",
      "('I', \"'ll\")\n",
      "(\"'ll\", 'be')\n",
      "('be', 'waiting')\n",
      "('waiting', \"'cause\")\n",
      "(\"'cause\", 'I')\n",
      "('I', 'ca')\n",
      "('ca', \"n't\")\n",
      "(\"n't\", 'sleep')\n",
      "('sleep', 'until')\n",
      "('until', 'I')\n",
      "('I', 'hear')\n",
      "('hear', 'your')\n",
      "('your', 'heart')\n",
      "('heart', 'I')\n",
      "('I', \"'ll\")\n",
      "(\"'ll\", 'be')\n",
      "('be', 'waiting')\n",
      "('waiting', \"'cause\")\n",
      "(\"'cause\", 'patiently')\n",
      "('patiently', 'I')\n",
      "('I', \"'ll\")\n",
      "(\"'ll\", 'wait')\n",
      "('wait', 'right')\n",
      "('right', 'here')\n",
      "('here', 'for')\n",
      "('for', 'you')\n",
      "('you', 'Waiting')\n",
      "('Waiting', ',')\n",
      "(',', 'waiting')\n",
      "('waiting', ',')\n",
      "(',', 'waiting')\n",
      "('waiting', ',')\n",
      "(',', 'waiting')\n",
      "('waiting', 'Patiently')\n",
      "('Patiently', 'I')\n",
      "('I', \"'ll\")\n",
      "(\"'ll\", 'wait')\n",
      "('wait', 'right')\n",
      "('right', 'here')\n",
      "('here', 'for')\n",
      "('for', 'you')\n",
      "('you', 'Waiting')\n",
      "('Waiting', ',')\n",
      "(',', 'waiting')\n",
      "('waiting', ',')\n",
      "(',', 'waiting')\n",
      "('waiting', ',')\n",
      "(',', 'waiting')\n",
      "('waiting', 'Patiently')\n",
      "('Patiently', 'I')\n",
      "('I', 'wait')\n",
      "('wait', 'It')\n",
      "('It', \"'s\")\n",
      "(\"'s\", '12')\n",
      "('12', 'am')\n",
      "('am', 'the')\n",
      "('the', 'crowd')\n",
      "('crowd', 'is')\n",
      "('is', 'getting')\n",
      "('getting', 'thin')\n",
      "('thin', 'but')\n",
      "('but', 'it')\n",
      "('it', \"'s\")\n",
      "(\"'s\", 'okay')\n",
      "('okay', \"'cause\")\n",
      "(\"'cause\", 'I')\n",
      "('I', 'ai')\n",
      "('ai', \"n't\")\n",
      "(\"n't\", 'here')\n",
      "('here', 'for')\n",
      "('for', 'them')\n",
      "('them', 'No')\n",
      "('No', 'no')\n",
      "('no', 'no')\n",
      "('no', 'And')\n",
      "('And', 'I')\n",
      "('I', 'refuse')\n",
      "('refuse', 'to')\n",
      "('to', 'move')\n",
      "('move', 'from')\n",
      "('from', 'where')\n",
      "('where', 'I')\n",
      "('I', 'am')\n",
      "('am', 'until')\n",
      "('until', 'I')\n",
      "('I', 'feel')\n",
      "('feel', 'your')\n",
      "('your', 'heart')\n",
      "('heart', 'pressed')\n",
      "('pressed', 'against')\n",
      "('against', 'mine')\n",
      "('mine', 'again')\n",
      "('again', 'I')\n",
      "('I', \"'m\")\n",
      "(\"'m\", 'waiting')\n",
      "('waiting', '!')\n",
      "('!', 'I')\n",
      "('I', \"'ll\")\n",
      "(\"'ll\", 'be')\n",
      "('be', 'waiting')\n",
      "('waiting', \"'cause\")\n",
      "(\"'cause\", 'I')\n",
      "('I', 'cant')\n",
      "('cant', 'smile')\n",
      "('smile', 'until')\n",
      "('until', 'I')\n",
      "('I', 'see')\n",
      "('see', 'your')\n",
      "('your', 'smile')\n",
      "('smile', 'I')\n",
      "('I', \"'ll\")\n",
      "(\"'ll\", 'be')\n",
      "('be', 'waiting')\n",
      "('waiting', 'there')\n",
      "('there', \"'s\")\n",
      "(\"'s\", 'nothing')\n",
      "('nothing', 'else')\n",
      "('else', 'that')\n",
      "('that', 'I')\n",
      "('I', 'would')\n",
      "('would', 'rather')\n",
      "('rather', 'do')\n",
      "('do', 'I')\n",
      "('I', \"'ll\")\n",
      "(\"'ll\", 'be')\n",
      "('be', 'waiting')\n",
      "('waiting', \"'cause\")\n",
      "(\"'cause\", 'I')\n",
      "('I', 'ca')\n",
      "('ca', \"n't\")\n",
      "(\"n't\", 'sleep')\n",
      "('sleep', 'until')\n",
      "('until', 'I')\n",
      "('I', 'hear')\n",
      "('hear', 'your')\n",
      "('your', 'heart')\n",
      "('heart', 'I')\n",
      "('I', \"'ll\")\n",
      "(\"'ll\", 'be')\n",
      "('be', 'waiting')\n",
      "('waiting', \"'cause\")\n",
      "(\"'cause\", 'patiently')\n",
      "('patiently', 'I')\n",
      "('I', \"'ll\")\n",
      "(\"'ll\", 'wait')\n",
      "('wait', 'right')\n",
      "('right', 'here')\n",
      "('here', 'for')\n",
      "('for', 'you')\n",
      "('you', 'I')\n",
      "('I', 'do')\n",
      "('do', \"n't\")\n",
      "(\"n't\", 'care')\n",
      "('care', 'how')\n",
      "('how', 'long')\n",
      "('long', 'it')\n",
      "('it', 'takes')\n",
      "('takes', 'I')\n",
      "('I', 'do')\n",
      "('do', \"n't\")\n",
      "(\"n't\", 'mind')\n",
      "('mind', 'I')\n",
      "('I', \"'m\")\n",
      "(\"'m\", 'alright')\n",
      "('alright', 'I')\n",
      "('I', \"'ll\")\n",
      "(\"'ll\", 'sit')\n",
      "('sit', 'and')\n",
      "('and', 'wait')\n",
      "('wait', \"'til\")\n",
      "(\"'til\", 'the')\n",
      "('the', 'sun')\n",
      "('sun', 'comes')\n",
      "('comes', 'down')\n",
      "('down', 'and')\n",
      "('and', 'rise')\n",
      "('rise', 'and')\n",
      "('and', 'come')\n",
      "('come', 'right')\n",
      "('right', 'back')\n",
      "('back', 'up')\n",
      "('up', 'again')\n",
      "('again', 'You')\n",
      "('You', \"'re\")\n",
      "(\"'re\", 'the')\n",
      "('the', 'best')\n",
      "('best', 'thing')\n",
      "('thing', 'that')\n",
      "('that', \"'s\")\n",
      "(\"'s\", 'happened')\n",
      "('happened', 'in')\n",
      "('in', 'my')\n",
      "('my', 'life')\n",
      "('life', 'When')\n",
      "('When', 'your')\n",
      "('your', 'aps')\n",
      "('aps', 'in')\n",
      "('in', 'the')\n",
      "('the', 'bar')\n",
      "('bar', 'is')\n",
      "('is', 'in')\n",
      "('in', 'my')\n",
      "('my', 'life')\n",
      "('life', 'and')\n",
      "('and', 'it')\n",
      "('it', 'just')\n",
      "('just', 'aint')\n",
      "('aint', 'right')\n",
      "('right', 'So')\n",
      "('So', 'take')\n",
      "('take', 'as')\n",
      "('as', 'long')\n",
      "('long', 'as')\n",
      "('as', 'you')\n",
      "('you', 'like')\n",
      "('like', 'I')\n",
      "('I', \"'m\")\n",
      "(\"'m\", 'waiting')\n",
      "('waiting', 'Waiting')\n",
      "('Waiting', ',')\n",
      "(',', 'waiting')\n",
      "('waiting', ',')\n",
      "(',', 'waiting')\n",
      "('waiting', ',')\n",
      "(',', 'waiting')\n",
      "('waiting', '(')\n",
      "('(', '4x')\n",
      "('4x', ')')\n",
      "(')', 'I')\n",
      "('I', \"'m\")\n",
      "(\"'m\", 'waiting')\n",
      "('waiting', 'I')\n",
      "('I', \"'ll\")\n",
      "(\"'ll\", 'be')\n",
      "('be', 'waiting')\n",
      "('waiting', 'I')\n",
      "('I', 'cant')\n",
      "('cant', 'smile')\n",
      "('smile', 'until')\n",
      "('until', 'I')\n",
      "('I', 'see')\n",
      "('see', 'your')\n",
      "('your', 'smile')\n",
      "('smile', 'I')\n",
      "('I', \"'ll\")\n",
      "(\"'ll\", 'be')\n",
      "('be', 'waiting')\n",
      "('waiting', 'There')\n",
      "('There', \"'s\")\n",
      "(\"'s\", 'nothing')\n",
      "('nothing', 'else')\n",
      "('else', 'that')\n",
      "('that', 'I')\n",
      "('I', 'would')\n",
      "('would', 'rather')\n",
      "('rather', 'do')\n",
      "('do', 'I')\n",
      "('I', \"'ll\")\n",
      "(\"'ll\", 'be')\n",
      "('be', 'waiting')\n",
      "('waiting', \"'cause\")\n",
      "(\"'cause\", 'I')\n",
      "('I', 'ca')\n",
      "('ca', \"n't\")\n",
      "(\"n't\", 'sleep')\n",
      "('sleep', 'until')\n",
      "('until', 'I')\n",
      "('I', 'hear')\n",
      "('hear', 'your')\n",
      "('your', 'heart')\n",
      "('heart', 'I')\n",
      "('I', \"'ll\")\n",
      "(\"'ll\", 'be')\n",
      "('be', 'waiting')\n",
      "('waiting', \"'cause\")\n",
      "(\"'cause\", 'patiently')\n",
      "('patiently', 'I')\n",
      "('I', \"'ll\")\n",
      "(\"'ll\", 'wait')\n",
      "('wait', 'right')\n",
      "('right', 'here')\n",
      "('here', 'for')\n",
      "('for', 'you')\n",
      "('you', 'I')\n",
      "('I', \"'ll\")\n",
      "(\"'ll\", 'be')\n",
      "('be', 'waiting')\n",
      "('waiting', 'I')\n",
      "('I', 'ca')\n",
      "('ca', \"n't\")\n",
      "(\"n't\", 'sleep')\n",
      "('sleep', 'until')\n",
      "('until', 'I')\n",
      "('I', 'hear')\n",
      "('hear', 'your')\n",
      "('your', 'heart')\n",
      "('heart', 'I')\n",
      "('I', \"'ll\")\n",
      "(\"'ll\", 'be')\n",
      "('be', 'waiting')\n",
      "('waiting', 'There')\n",
      "('There', \"'s\")\n",
      "(\"'s\", 'nothing')\n",
      "('nothing', 'else')\n",
      "('else', 'that')\n",
      "('that', 'I')\n",
      "('I', 'would')\n",
      "('would', 'rather')\n",
      "('rather', 'do')\n",
      "('do', 'I')\n",
      "('I', \"'ll\")\n",
      "(\"'ll\", 'be')\n",
      "('be', 'waiting')\n",
      "('waiting', \"'cause\")\n",
      "(\"'cause\", 'I')\n",
      "('I', 'ca')\n",
      "('ca', \"n't\")\n",
      "(\"n't\", 'sleep')\n",
      "('sleep', 'until')\n",
      "('until', 'I')\n",
      "('I', 'hear')\n",
      "('hear', 'your')\n",
      "('your', 'heart')\n",
      "('heart', 'I')\n",
      "('I', \"'ll\")\n",
      "(\"'ll\", 'be')\n",
      "('be', 'waiting')\n",
      "('waiting', \"'cause\")\n",
      "(\"'cause\", 'patiently')\n",
      "('patiently', 'I')\n",
      "('I', 'wait')\n",
      "('wait', 'right')\n",
      "('right', 'here')\n",
      "('here', 'for')\n",
      "('for', 'you')\n",
      "('you', 'Waiting')\n",
      "('Waiting', ',')\n",
      "(',', 'waiting')\n",
      "('waiting', ',')\n",
      "(',', 'waiting')\n",
      "('waiting', ',')\n",
      "(',', 'waiting')\n",
      "('waiting', 'Patiently')\n",
      "('Patiently', 'I')\n",
      "('I', 'wait')\n",
      "('wait', 'right')\n",
      "('right', 'here')\n",
      "('here', 'for')\n",
      "('for', 'you')\n",
      "('you', 'Waiting')\n",
      "('Waiting', ',')\n",
      "(',', 'waiting')\n",
      "('waiting', ',')\n",
      "(',', 'waiting')\n",
      "('waiting', ',')\n",
      "(',', 'waiting')\n",
      "('waiting', 'Patiently')\n",
      "('Patiently', 'I')\n",
      "('I', 'wait')\n",
      "('wait', 'Waiting')\n",
      "('Waiting', ',')\n",
      "(',', 'waiting')\n",
      "('waiting', ',')\n",
      "(',', 'waiting')\n",
      "('waiting', ',')\n",
      "(',', 'waiting')\n",
      "('waiting', 'Waiting')\n",
      "('Waiting', ',')\n",
      "(',', 'waiting')\n",
      "('waiting', ',')\n",
      "(',', 'waiting')\n",
      "('waiting', ',')\n",
      "(',', 'waiting')\n"
     ]
    }
   ],
   "source": [
    "## Bigrams\n",
    "for bigram in nltk.bigrams(nltk.word_tokenize(data['lyrics'].values[0])):\n",
    "    print(bigram)"
   ]
  },
  {
   "cell_type": "code",
   "execution_count": 33,
   "metadata": {
    "slideshow": {
     "slide_type": "subslide"
    }
   },
   "outputs": [
    {
     "data": {
      "text/plain": [
       "(1.0, 0.8333333333333334)"
      ]
     },
     "execution_count": 33,
     "metadata": {},
     "output_type": "execute_result"
    }
   ],
   "source": [
    "matrix = CountVectorizer(max_features=10000, ngram_range=(1,2))\n",
    "X = matrix.fit_transform(data['lyrics']).toarray()\n",
    "X_train, X_test, y_train, y_test = train_test_split(X, data['artist'], test_size=0.2, random_state=123)\n",
    "clf = RandomForestClassifier(random_state=123).fit(X_train, y_train)\n",
    "clf.score(X_train, y_train), clf.score(X_test, y_test)"
   ]
  },
  {
   "cell_type": "markdown",
   "metadata": {
    "slideshow": {
     "slide_type": "slide"
    }
   },
   "source": [
    "## <center> Activity"
   ]
  },
  {
   "cell_type": "markdown",
   "metadata": {
    "slideshow": {
     "slide_type": "subslide"
    }
   },
   "source": [
    "<center> Use NLP and classification to perform a sentiment analysis task - predicting the sentiment of a Twitter user on nuclear power based off the text of their tweet."
   ]
  },
  {
   "cell_type": "code",
   "execution_count": 34,
   "metadata": {
    "slideshow": {
     "slide_type": "subslide"
    }
   },
   "outputs": [],
   "source": [
    "df = pd.read_csv('sentiment_nuclear_power.csv', encoding = 'unicode_escape')"
   ]
  },
  {
   "cell_type": "code",
   "execution_count": 35,
   "metadata": {},
   "outputs": [
    {
     "data": {
      "text/html": [
       "<div>\n",
       "<style scoped>\n",
       "    .dataframe tbody tr th:only-of-type {\n",
       "        vertical-align: middle;\n",
       "    }\n",
       "\n",
       "    .dataframe tbody tr th {\n",
       "        vertical-align: top;\n",
       "    }\n",
       "\n",
       "    .dataframe thead th {\n",
       "        text-align: right;\n",
       "    }\n",
       "</style>\n",
       "<table border=\"1\" class=\"dataframe\">\n",
       "  <thead>\n",
       "    <tr style=\"text-align: right;\">\n",
       "      <th></th>\n",
       "      <th>tweet_text</th>\n",
       "      <th>sentiment</th>\n",
       "      <th>sentiment_confidence_summary</th>\n",
       "    </tr>\n",
       "  </thead>\n",
       "  <tbody>\n",
       "    <tr>\n",
       "      <th>0</th>\n",
       "      <td>:Hello Japan is a nuclear power plant crisis. ...</td>\n",
       "      <td>Negative</td>\n",
       "      <td>\"Neutral / author is just sharing information\"...</td>\n",
       "    </tr>\n",
       "    <tr>\n",
       "      <th>1</th>\n",
       "      <td>. Renewable Energy Consumption Tops Nuclear fo...</td>\n",
       "      <td>Neutral / author is just sharing information</td>\n",
       "      <td>\"Neutral / author is just sharing information\"...</td>\n",
       "    </tr>\n",
       "    <tr>\n",
       "      <th>2</th>\n",
       "      <td>. Will liberals now seek to eliminate dangerou...</td>\n",
       "      <td>Neutral / author is just sharing information</td>\n",
       "      <td>\"Neutral / author is just sharing information\"...</td>\n",
       "    </tr>\n",
       "    <tr>\n",
       "      <th>3</th>\n",
       "      <td>(Aug 22,2011)Plant Status of Fukushima Daiichi...</td>\n",
       "      <td>Neutral / author is just sharing information</td>\n",
       "      <td>\"Neutral / author is just sharing information\"...</td>\n",
       "    </tr>\n",
       "    <tr>\n",
       "      <th>4</th>\n",
       "      <td>[ebook] Nuclear Energy and the Environment: Ox...</td>\n",
       "      <td>Neutral / author is just sharing information</td>\n",
       "      <td>\"Neutral / author is just sharing information\"...</td>\n",
       "    </tr>\n",
       "    <tr>\n",
       "      <th>5</th>\n",
       "      <td>[GJOBS] Nuclear Power Safety Campaign Organize...</td>\n",
       "      <td>Neutral / author is just sharing information</td>\n",
       "      <td>\"Neutral / author is just sharing information\"...</td>\n",
       "    </tr>\n",
       "    <tr>\n",
       "      <th>6</th>\n",
       "      <td>[news] Nuclear Power Plant: Radioactive Tritiu...</td>\n",
       "      <td>Neutral / author is just sharing information</td>\n",
       "      <td>\"Neutral / author is just sharing information\"...</td>\n",
       "    </tr>\n",
       "    <tr>\n",
       "      <th>7</th>\n",
       "      <td>[science] Nuclear Energy and the Environment: ...</td>\n",
       "      <td>Neutral / author is just sharing information</td>\n",
       "      <td>\"Neutral / author is just sharing information\"...</td>\n",
       "    </tr>\n",
       "    <tr>\n",
       "      <th>8</th>\n",
       "      <td>{link} :P How many windmills would you need to...</td>\n",
       "      <td>Neutral / author is just sharing information</td>\n",
       "      <td>\"Neutral / author is just sharing information\"...</td>\n",
       "    </tr>\n",
       "    <tr>\n",
       "      <th>9</th>\n",
       "      <td>{link} &amp;quot;The right thing to do&amp;quot; I'm f...</td>\n",
       "      <td>Positive</td>\n",
       "      <td>\"Neutral / author is just sharing information\"...</td>\n",
       "    </tr>\n",
       "  </tbody>\n",
       "</table>\n",
       "</div>"
      ],
      "text/plain": [
       "                                          tweet_text  \\\n",
       "0  :Hello Japan is a nuclear power plant crisis. ...   \n",
       "1  . Renewable Energy Consumption Tops Nuclear fo...   \n",
       "2  . Will liberals now seek to eliminate dangerou...   \n",
       "3  (Aug 22,2011)Plant Status of Fukushima Daiichi...   \n",
       "4  [ebook] Nuclear Energy and the Environment: Ox...   \n",
       "5  [GJOBS] Nuclear Power Safety Campaign Organize...   \n",
       "6  [news] Nuclear Power Plant: Radioactive Tritiu...   \n",
       "7  [science] Nuclear Energy and the Environment: ...   \n",
       "8  {link} :P How many windmills would you need to...   \n",
       "9  {link} &quot;The right thing to do&quot; I'm f...   \n",
       "\n",
       "                                      sentiment  \\\n",
       "0                                      Negative   \n",
       "1  Neutral / author is just sharing information   \n",
       "2  Neutral / author is just sharing information   \n",
       "3  Neutral / author is just sharing information   \n",
       "4  Neutral / author is just sharing information   \n",
       "5  Neutral / author is just sharing information   \n",
       "6  Neutral / author is just sharing information   \n",
       "7  Neutral / author is just sharing information   \n",
       "8  Neutral / author is just sharing information   \n",
       "9                                      Positive   \n",
       "\n",
       "                        sentiment_confidence_summary  \n",
       "0  \"Neutral / author is just sharing information\"...  \n",
       "1  \"Neutral / author is just sharing information\"...  \n",
       "2  \"Neutral / author is just sharing information\"...  \n",
       "3  \"Neutral / author is just sharing information\"...  \n",
       "4  \"Neutral / author is just sharing information\"...  \n",
       "5  \"Neutral / author is just sharing information\"...  \n",
       "6  \"Neutral / author is just sharing information\"...  \n",
       "7  \"Neutral / author is just sharing information\"...  \n",
       "8  \"Neutral / author is just sharing information\"...  \n",
       "9  \"Neutral / author is just sharing information\"...  "
      ]
     },
     "execution_count": 35,
     "metadata": {},
     "output_type": "execute_result"
    }
   ],
   "source": [
    "df.head(10)"
   ]
  },
  {
   "cell_type": "code",
   "execution_count": 37,
   "metadata": {},
   "outputs": [],
   "source": [
    "data = df.drop(['sentiment_confidence_summary'], axis=1)\n",
    "data[data.sentiment == 'Tweet NOT related to nuclear energy'].index\n",
    "data.drop(31, axis=0, inplace = True)"
   ]
  },
  {
   "cell_type": "code",
   "execution_count": 38,
   "metadata": {},
   "outputs": [],
   "source": [
    "data.sentiment = data.sentiment.map({'Neutral / author is just sharing information': 0,\n",
    "                                     'Negative': -1, 'Positive': 1})"
   ]
  },
  {
   "cell_type": "code",
   "execution_count": 39,
   "metadata": {},
   "outputs": [
    {
     "data": {
      "text/plain": [
       " 0    160\n",
       "-1     19\n",
       " 1     10\n",
       "Name: sentiment, dtype: int64"
      ]
     },
     "execution_count": 39,
     "metadata": {},
     "output_type": "execute_result"
    }
   ],
   "source": [
    "data.sentiment.value_counts()"
   ]
  },
  {
   "cell_type": "code",
   "execution_count": 81,
   "metadata": {},
   "outputs": [],
   "source": [
    "from sklearn.feature_extraction.text import CountVectorizer\n",
    "matrix = CountVectorizer(max_features=10000)\n",
    "X = matrix.fit_transform(data['tweet_text']).toarray()"
   ]
  },
  {
   "cell_type": "code",
   "execution_count": 82,
   "metadata": {},
   "outputs": [
    {
     "data": {
      "text/plain": [
       "(0.9527777777777777, 0.7666666666666667)"
      ]
     },
     "execution_count": 82,
     "metadata": {},
     "output_type": "execute_result"
    }
   ],
   "source": [
    "from imblearn.over_sampling import SMOTE\n",
    "sm = SMOTE(random_state = 123)\n",
    "\n",
    "from sklearn.model_selection import train_test_split\n",
    "from sklearn.ensemble import RandomForestClassifier\n",
    "\n",
    "X_smote, y_smote = sm.fit_resample(X, data['sentiment'])\n",
    "\n",
    "X_train, X_test, y_train, y_test = train_test_split(X_smote, y_smote, test_size=0.25, random_state = 123)\n",
    "\n",
    "clf = RandomForestClassifier(random_state=123).fit(X_train, y_train)\n",
    "clf.score(X_train, y_train), clf.score(X_test, y_test)"
   ]
  },
  {
   "cell_type": "code",
   "execution_count": 83,
   "metadata": {},
   "outputs": [
    {
     "data": {
      "image/png": "[encoded data removed]",
      "text/plain": [
       "<Figure size 432x288 with 2 Axes>"
      ]
     },
     "metadata": {
      "needs_background": "light"
     },
     "output_type": "display_data"
    }
   ],
   "source": [
    "import matplotlib.pyplot as plt\n",
    "from sklearn.metrics import plot_confusion_matrix\n",
    "plot_confusion_matrix(clf, X_test, y_test, cmap=plt.cm.Blues)\n",
    "plt.title(\"Confusion matrix\")\n",
    "\n",
    "plt.show()"
   ]
  },
  {
   "cell_type": "code",
   "execution_count": 84,
   "metadata": {},
   "outputs": [],
   "source": [
    "## TF-IDF Vectorizer\n",
    "tf_idf_vec = TfidfVectorizer(stop_words='english')\n",
    "vectors = tf_idf_vec.fit_transform(data['tweet_text'])"
   ]
  },
  {
   "cell_type": "code",
   "execution_count": 85,
   "metadata": {},
   "outputs": [
    {
     "data": {
      "text/plain": [
       "(1.0, 0.9916666666666667)"
      ]
     },
     "execution_count": 85,
     "metadata": {},
     "output_type": "execute_result"
    }
   ],
   "source": [
    "sm = SMOTE(random_state = 123)\n",
    "\n",
    "X_smote, y_smote = sm.fit_resample(vectors, data['sentiment'])\n",
    "\n",
    "X_train, X_test, y_train, y_test = train_test_split(X_smote, y_smote, test_size=0.25, random_state = 123)\n",
    "\n",
    "clf = RandomForestClassifier(random_state=123).fit(X_train, y_train)\n",
    "clf.score(X_train, y_train), clf.score(X_test, y_test)"
   ]
  },
  {
   "cell_type": "code",
   "execution_count": 86,
   "metadata": {},
   "outputs": [
    {
     "data": {
      "image/png": "[encoded data removed]",
      "text/plain": [
       "<Figure size 432x288 with 2 Axes>"
      ]
     },
     "metadata": {
      "needs_background": "light"
     },
     "output_type": "display_data"
    }
   ],
   "source": [
    "import matplotlib.pyplot as plt\n",
    "from sklearn.metrics import plot_confusion_matrix\n",
    "plot_confusion_matrix(clf, X_test, y_test, cmap=plt.cm.Blues)\n",
    "plt.title(\"Confusion matrix\")\n",
    "\n",
    "plt.show()"
   ]
  },
  {
   "cell_type": "code",
   "execution_count": null,
   "metadata": {},
   "outputs": [],
   "source": []
  },
  {
   "cell_type": "code",
   "execution_count": null,
   "metadata": {},
   "outputs": [],
   "source": []
  }
 ],
 "metadata": {
  "celltoolbar": "Slideshow",
  "kernelspec": {
   "display_name": "Python 3",
   "language": "python",
   "name": "python3"
  },
  "language_info": {
   "codemirror_mode": {
    "name": "ipython",
    "version": 3
   },
   "file_extension": ".py",
   "mimetype": "text/x-python",
   "name": "python",
   "nbconvert_exporter": "python",
   "pygments_lexer": "ipython3",
   "version": "3.7.3"
  }
 },
 "nbformat": 4,
 "nbformat_minor": 2
}
