{
 "cells": [
  {
   "cell_type": "markdown",
   "metadata": {
    "slideshow": {
     "slide_type": "slide"
    }
   },
   "source": [
    "# <center>Discrete Probability Distributions</center>\n",
    "## <center>PMF and CDF, Expected Value and Variance </center>\n"
   ]
  },
  {
   "cell_type": "markdown",
   "metadata": {
    "slideshow": {
     "slide_type": "slide"
    }
   },
   "source": [
    "## <center>Learning Outcomes</center><br>\n",
    "<center> Students know and can apply Probability Mass and Cumulative Density Functions to find likelihood of events occurring in the population, explain the relationship between statistics and parameters, use specific distribution functions for Bernoulli, Binomial, and Poisson scenarios to find likelihood of events. </center>"
   ]
  },
  {
   "cell_type": "markdown",
   "metadata": {
    "slideshow": {
     "slide_type": "slide"
    }
   },
   "source": [
    "<center>Import libraries."
   ]
  },
  {
   "cell_type": "code",
   "execution_count": 1,
   "metadata": {
    "slideshow": {
     "slide_type": "subslide"
    }
   },
   "outputs": [],
   "source": [
    "import numpy as np\n",
    "from scipy import stats\n",
    "import matplotlib.pyplot as plt\n",
    "import seaborn as sns\n",
    "from collections import Counter\n",
    "import pandas as pd\n",
    "from itertools import *"
   ]
  },
  {
   "cell_type": "markdown",
   "metadata": {
    "slideshow": {
     "slide_type": "slide"
    }
   },
   "source": [
    "## One Die"
   ]
  },
  {
   "cell_type": "code",
   "execution_count": 2,
   "metadata": {
    "slideshow": {
     "slide_type": "subslide"
    }
   },
   "outputs": [],
   "source": [
    "die = [1,2,3,4,5,6]"
   ]
  },
  {
   "cell_type": "markdown",
   "metadata": {
    "slideshow": {
     "slide_type": "subslide"
    }
   },
   "source": [
    "What are the possible outcomes? How many ways can they occur?"
   ]
  },
  {
   "cell_type": "code",
   "execution_count": 3,
   "metadata": {
    "slideshow": {
     "slide_type": "subslide"
    }
   },
   "outputs": [
    {
     "data": {
      "text/plain": [
       "{1: 1, 2: 1, 3: 1, 4: 1, 5: 1, 6: 1}"
      ]
     },
     "execution_count": 3,
     "metadata": {},
     "output_type": "execute_result"
    }
   ],
   "source": [
    "outcomes = dict(Counter(die))\n",
    "outcomes"
   ]
  },
  {
   "cell_type": "markdown",
   "metadata": {
    "slideshow": {
     "slide_type": "subslide"
    }
   },
   "source": [
    "What are the probabilities of each outcome?"
   ]
  },
  {
   "cell_type": "code",
   "execution_count": 4,
   "metadata": {
    "slideshow": {
     "slide_type": "subslide"
    }
   },
   "outputs": [
    {
     "data": {
      "text/plain": [
       "array([0.16666667, 0.16666667, 0.16666667, 0.16666667, 0.16666667,\n",
       "       0.16666667])"
      ]
     },
     "execution_count": 4,
     "metadata": {},
     "output_type": "execute_result"
    }
   ],
   "source": [
    "probs = np.divide(list(outcomes.values()),len(outcomes))\n",
    "probs"
   ]
  },
  {
   "cell_type": "markdown",
   "metadata": {
    "slideshow": {
     "slide_type": "subslide"
    }
   },
   "source": [
    "What if we want to plot the probabilities?"
   ]
  },
  {
   "cell_type": "markdown",
   "metadata": {
    "slideshow": {
     "slide_type": "slide"
    }
   },
   "source": [
    "### PMF - Probability Mass Function"
   ]
  },
  {
   "cell_type": "markdown",
   "metadata": {
    "slideshow": {
     "slide_type": "subslide"
    }
   },
   "source": [
    "Function to plot PMF."
   ]
  },
  {
   "cell_type": "code",
   "execution_count": 5,
   "metadata": {
    "slideshow": {
     "slide_type": "subslide"
    }
   },
   "outputs": [],
   "source": [
    "def plot_pmf(outcomes, probs, xlabel, title):\n",
    "    plt.figure(figsize=(10,10))\n",
    "    plt.plot(list(outcomes),probs, 'ro', ms=12, mec='g', color='green')\n",
    "    plt.vlines(list(outcomes),0,probs)\n",
    "    plt.ylabel('Prob')\n",
    "    plt.xlabel(xlabel)\n",
    "    plt.xticks(list(outcomes))\n",
    "    plt.title(title)\n",
    "    plt.show()"
   ]
  },
  {
   "cell_type": "code",
   "execution_count": 6,
   "metadata": {
    "slideshow": {
     "slide_type": "subslide"
    }
   },
   "outputs": [
    {
     "data": {
      "image/png": "[encoded data removed]",
      "text/plain": [
       "<Figure size 720x720 with 1 Axes>"
      ]
     },
     "metadata": {
      "needs_background": "light"
     },
     "output_type": "display_data"
    }
   ],
   "source": [
    "plot_pmf(die, probs, 'Die roll', 'PMF for One Die')"
   ]
  },
  {
   "cell_type": "markdown",
   "metadata": {
    "slideshow": {
     "slide_type": "subslide"
    }
   },
   "source": [
    "What are the odds of rolling a 1 or 2? What about rolling 4 or less?"
   ]
  },
  {
   "cell_type": "markdown",
   "metadata": {
    "slideshow": {
     "slide_type": "slide"
    }
   },
   "source": [
    "### CDF - Cumulative Distribution Function"
   ]
  },
  {
   "cell_type": "code",
   "execution_count": 7,
   "metadata": {
    "slideshow": {
     "slide_type": "subslide"
    }
   },
   "outputs": [
    {
     "name": "stdout",
     "output_type": "stream",
     "text": [
      "Cumulative probabilities: [0.16666667 0.33333333 0.5        0.66666667 0.83333333 1.        ]\n"
     ]
    }
   ],
   "source": [
    "cumulative_probs = np.cumsum(probs)\n",
    "print('Cumulative probabilities:', cumulative_probs)"
   ]
  },
  {
   "cell_type": "code",
   "execution_count": 8,
   "metadata": {
    "slideshow": {
     "slide_type": "subslide"
    }
   },
   "outputs": [],
   "source": [
    "def plot_cdf(outcomes, cumulative_probs, xlabel, title):\n",
    "    plt.figure(figsize=(10,10))\n",
    "    plt.plot(list(outcomes),cumulative_probs, 'ro', ms=12, mec='g', color='green')\n",
    "    plt.step(list(outcomes), cumulative_probs, color='green', where='post')\n",
    "    plt.ylabel('Prob')\n",
    "    plt.xlabel(xlabel)\n",
    "    plt.xticks(list(outcomes))\n",
    "    plt.title(title)"
   ]
  },
  {
   "cell_type": "code",
   "execution_count": 9,
   "metadata": {
    "slideshow": {
     "slide_type": "subslide"
    }
   },
   "outputs": [
    {
     "data": {
      "image/png": "[encoded data removed]",
      "text/plain": [
       "<Figure size 720x720 with 1 Axes>"
      ]
     },
     "metadata": {
      "needs_background": "light"
     },
     "output_type": "display_data"
    }
   ],
   "source": [
    "plot_cdf(die, cumulative_probs, 'Die roll', 'One Die Roll CDF')"
   ]
  },
  {
   "cell_type": "markdown",
   "metadata": {
    "slideshow": {
     "slide_type": "subslide"
    }
   },
   "source": [
    "What can I expect to get on average when I roll one die?"
   ]
  },
  {
   "cell_type": "markdown",
   "metadata": {
    "slideshow": {
     "slide_type": "slide"
    }
   },
   "source": [
    "### Expected Value"
   ]
  },
  {
   "cell_type": "code",
   "execution_count": 10,
   "metadata": {
    "slideshow": {
     "slide_type": "subslide"
    }
   },
   "outputs": [
    {
     "name": "stdout",
     "output_type": "stream",
     "text": [
      "Expected Value: 3.5\n"
     ]
    }
   ],
   "source": [
    "expected_value = np.sum(np.multiply(list(outcomes),probs))\n",
    "print('Expected Value:',expected_value)"
   ]
  },
  {
   "cell_type": "markdown",
   "metadata": {
    "slideshow": {
     "slide_type": "subslide"
    }
   },
   "source": [
    "How close to the expected value will each dice roll be?"
   ]
  },
  {
   "cell_type": "markdown",
   "metadata": {
    "slideshow": {
     "slide_type": "slide"
    }
   },
   "source": [
    "### Variance and Standard Deviation"
   ]
  },
  {
   "cell_type": "code",
   "execution_count": 11,
   "metadata": {
    "slideshow": {
     "slide_type": "subslide"
    }
   },
   "outputs": [
    {
     "name": "stdout",
     "output_type": "stream",
     "text": [
      "Variance: 2.9166666666666665\n"
     ]
    }
   ],
   "source": [
    "squared_differences = np.subtract(die,expected_value)**2\n",
    "variance = np.sum(squared_differences)/6\n",
    "print('Variance:',variance)"
   ]
  },
  {
   "cell_type": "code",
   "execution_count": 12,
   "metadata": {
    "slideshow": {
     "slide_type": "subslide"
    }
   },
   "outputs": [
    {
     "data": {
      "text/plain": [
       "2.9166666666666665"
      ]
     },
     "execution_count": 12,
     "metadata": {},
     "output_type": "execute_result"
    }
   ],
   "source": [
    "np.var(die)"
   ]
  },
  {
   "cell_type": "code",
   "execution_count": 13,
   "metadata": {
    "slideshow": {
     "slide_type": "subslide"
    }
   },
   "outputs": [
    {
     "name": "stdout",
     "output_type": "stream",
     "text": [
      "Standard Deviation: 1.707825127659933\n"
     ]
    }
   ],
   "source": [
    "std = np.sqrt(variance)\n",
    "print('Standard Deviation:', std)"
   ]
  },
  {
   "cell_type": "markdown",
   "metadata": {
    "slideshow": {
     "slide_type": "subslide"
    }
   },
   "source": [
    "Bringing it all together in a table."
   ]
  },
  {
   "cell_type": "code",
   "execution_count": 14,
   "metadata": {
    "slideshow": {
     "slide_type": "subslide"
    }
   },
   "outputs": [],
   "source": [
    "## takes in a list of outcome values and the corresponding probablities\n",
    "## outputs a probability distribution table\n",
    "def distribution_stats(outcomes, probs):\n",
    "    ev = np.sum(np.multiply(outcomes,probs))\n",
    "    df = pd.DataFrame()\n",
    "    for outcome,prob in zip(outcomes,probs):\n",
    "        df[outcome]=[prob, outcome*prob, outcome-ev, (outcome-ev)**2, (outcome-ev)**2*prob]\n",
    "    df.set_index(pd.Series(['P(x)', 'E(X)', 'X-E(X)', '(X-E(X))^2', '(X-E(X))^2*P(x)']), inplace=True)\n",
    "    df['Sum']=df.sum(axis=1)\n",
    "    df_sum = pd.DataFrame()\n",
    "    df_sum['Variance'] = [df.iloc[-1]['Sum']]\n",
    "    df_sum['Standard Deviation'] = [np.sqrt(df_sum['Variance'][0])]\n",
    "    df_sum.reset_index(drop=True, inplace=True)\n",
    "    display(df.round(3),df_sum.round(3))"
   ]
  },
  {
   "cell_type": "code",
   "execution_count": 15,
   "metadata": {
    "slideshow": {
     "slide_type": "subslide"
    }
   },
   "outputs": [
    {
     "data": {
      "text/html": [
       "<div>\n",
       "<style scoped>\n",
       "    .dataframe tbody tr th:only-of-type {\n",
       "        vertical-align: middle;\n",
       "    }\n",
       "\n",
       "    .dataframe tbody tr th {\n",
       "        vertical-align: top;\n",
       "    }\n",
       "\n",
       "    .dataframe thead th {\n",
       "        text-align: right;\n",
       "    }\n",
       "</style>\n",
       "<table border=\"1\" class=\"dataframe\">\n",
       "  <thead>\n",
       "    <tr style=\"text-align: right;\">\n",
       "      <th></th>\n",
       "      <th>1</th>\n",
       "      <th>2</th>\n",
       "      <th>3</th>\n",
       "      <th>4</th>\n",
       "      <th>5</th>\n",
       "      <th>6</th>\n",
       "      <th>Sum</th>\n",
       "    </tr>\n",
       "  </thead>\n",
       "  <tbody>\n",
       "    <tr>\n",
       "      <th>P(x)</th>\n",
       "      <td>0.167</td>\n",
       "      <td>0.167</td>\n",
       "      <td>0.167</td>\n",
       "      <td>0.167</td>\n",
       "      <td>0.167</td>\n",
       "      <td>0.167</td>\n",
       "      <td>1.000</td>\n",
       "    </tr>\n",
       "    <tr>\n",
       "      <th>E(X)</th>\n",
       "      <td>0.167</td>\n",
       "      <td>0.333</td>\n",
       "      <td>0.500</td>\n",
       "      <td>0.667</td>\n",
       "      <td>0.833</td>\n",
       "      <td>1.000</td>\n",
       "      <td>3.500</td>\n",
       "    </tr>\n",
       "    <tr>\n",
       "      <th>X-E(X)</th>\n",
       "      <td>-2.500</td>\n",
       "      <td>-1.500</td>\n",
       "      <td>-0.500</td>\n",
       "      <td>0.500</td>\n",
       "      <td>1.500</td>\n",
       "      <td>2.500</td>\n",
       "      <td>0.000</td>\n",
       "    </tr>\n",
       "    <tr>\n",
       "      <th>(X-E(X))^2</th>\n",
       "      <td>6.250</td>\n",
       "      <td>2.250</td>\n",
       "      <td>0.250</td>\n",
       "      <td>0.250</td>\n",
       "      <td>2.250</td>\n",
       "      <td>6.250</td>\n",
       "      <td>17.500</td>\n",
       "    </tr>\n",
       "    <tr>\n",
       "      <th>(X-E(X))^2*P(x)</th>\n",
       "      <td>1.042</td>\n",
       "      <td>0.375</td>\n",
       "      <td>0.042</td>\n",
       "      <td>0.042</td>\n",
       "      <td>0.375</td>\n",
       "      <td>1.042</td>\n",
       "      <td>2.917</td>\n",
       "    </tr>\n",
       "  </tbody>\n",
       "</table>\n",
       "</div>"
      ],
      "text/plain": [
       "                     1      2      3      4      5      6     Sum\n",
       "P(x)             0.167  0.167  0.167  0.167  0.167  0.167   1.000\n",
       "E(X)             0.167  0.333  0.500  0.667  0.833  1.000   3.500\n",
       "X-E(X)          -2.500 -1.500 -0.500  0.500  1.500  2.500   0.000\n",
       "(X-E(X))^2       6.250  2.250  0.250  0.250  2.250  6.250  17.500\n",
       "(X-E(X))^2*P(x)  1.042  0.375  0.042  0.042  0.375  1.042   2.917"
      ]
     },
     "metadata": {},
     "output_type": "display_data"
    },
    {
     "data": {
      "text/html": [
       "<div>\n",
       "<style scoped>\n",
       "    .dataframe tbody tr th:only-of-type {\n",
       "        vertical-align: middle;\n",
       "    }\n",
       "\n",
       "    .dataframe tbody tr th {\n",
       "        vertical-align: top;\n",
       "    }\n",
       "\n",
       "    .dataframe thead th {\n",
       "        text-align: right;\n",
       "    }\n",
       "</style>\n",
       "<table border=\"1\" class=\"dataframe\">\n",
       "  <thead>\n",
       "    <tr style=\"text-align: right;\">\n",
       "      <th></th>\n",
       "      <th>Variance</th>\n",
       "      <th>Standard Deviation</th>\n",
       "    </tr>\n",
       "  </thead>\n",
       "  <tbody>\n",
       "    <tr>\n",
       "      <th>0</th>\n",
       "      <td>2.917</td>\n",
       "      <td>1.708</td>\n",
       "    </tr>\n",
       "  </tbody>\n",
       "</table>\n",
       "</div>"
      ],
      "text/plain": [
       "   Variance  Standard Deviation\n",
       "0     2.917               1.708"
      ]
     },
     "metadata": {},
     "output_type": "display_data"
    }
   ],
   "source": [
    "distribution_stats(die, probs)"
   ]
  },
  {
   "cell_type": "markdown",
   "metadata": {
    "slideshow": {
     "slide_type": "subslide"
    }
   },
   "source": [
    "What if the odds aren't all equal?"
   ]
  },
  {
   "cell_type": "markdown",
   "metadata": {
    "slideshow": {
     "slide_type": "slide"
    }
   },
   "source": [
    "## Loaded Die"
   ]
  },
  {
   "cell_type": "code",
   "execution_count": 16,
   "metadata": {
    "slideshow": {
     "slide_type": "subslide"
    }
   },
   "outputs": [],
   "source": [
    "loaded_die_probs = [1/12, 1/12, 4/12, 4/12, 1/12, 1/12]"
   ]
  },
  {
   "cell_type": "code",
   "execution_count": 17,
   "metadata": {
    "slideshow": {
     "slide_type": "subslide"
    }
   },
   "outputs": [
    {
     "data": {
      "image/png": "[encoded data removed]",
      "text/plain": [
       "<Figure size 720x720 with 1 Axes>"
      ]
     },
     "metadata": {
      "needs_background": "light"
     },
     "output_type": "display_data"
    }
   ],
   "source": [
    "plot_pmf(die, loaded_die_probs, 'Die roll', 'Loaded Die Roll PMF')"
   ]
  },
  {
   "cell_type": "code",
   "execution_count": 18,
   "metadata": {
    "slideshow": {
     "slide_type": "subslide"
    }
   },
   "outputs": [
    {
     "data": {
      "text/plain": [
       "array([0.08333333, 0.16666667, 0.5       , 0.83333333, 0.91666667,\n",
       "       1.        ])"
      ]
     },
     "execution_count": 18,
     "metadata": {},
     "output_type": "execute_result"
    }
   ],
   "source": [
    "loaded_cumulative_probs = np.cumsum(loaded_die_probs)\n",
    "loaded_cumulative_probs"
   ]
  },
  {
   "cell_type": "code",
   "execution_count": 19,
   "metadata": {
    "slideshow": {
     "slide_type": "subslide"
    }
   },
   "outputs": [
    {
     "data": {
      "image/png": "[encoded data removed]",
      "text/plain": [
       "<Figure size 720x720 with 1 Axes>"
      ]
     },
     "metadata": {
      "needs_background": "light"
     },
     "output_type": "display_data"
    }
   ],
   "source": [
    "plot_cdf(die, loaded_cumulative_probs, 'Die roll', 'Loaded Die Roll CDF')"
   ]
  },
  {
   "cell_type": "code",
   "execution_count": 20,
   "metadata": {
    "slideshow": {
     "slide_type": "subslide"
    }
   },
   "outputs": [
    {
     "data": {
      "text/html": [
       "<div>\n",
       "<style scoped>\n",
       "    .dataframe tbody tr th:only-of-type {\n",
       "        vertical-align: middle;\n",
       "    }\n",
       "\n",
       "    .dataframe tbody tr th {\n",
       "        vertical-align: top;\n",
       "    }\n",
       "\n",
       "    .dataframe thead th {\n",
       "        text-align: right;\n",
       "    }\n",
       "</style>\n",
       "<table border=\"1\" class=\"dataframe\">\n",
       "  <thead>\n",
       "    <tr style=\"text-align: right;\">\n",
       "      <th></th>\n",
       "      <th>1</th>\n",
       "      <th>2</th>\n",
       "      <th>3</th>\n",
       "      <th>4</th>\n",
       "      <th>5</th>\n",
       "      <th>6</th>\n",
       "      <th>Sum</th>\n",
       "    </tr>\n",
       "  </thead>\n",
       "  <tbody>\n",
       "    <tr>\n",
       "      <th>P(x)</th>\n",
       "      <td>0.083</td>\n",
       "      <td>0.083</td>\n",
       "      <td>0.333</td>\n",
       "      <td>0.333</td>\n",
       "      <td>0.083</td>\n",
       "      <td>0.083</td>\n",
       "      <td>1.000</td>\n",
       "    </tr>\n",
       "    <tr>\n",
       "      <th>E(X)</th>\n",
       "      <td>0.083</td>\n",
       "      <td>0.167</td>\n",
       "      <td>1.000</td>\n",
       "      <td>1.333</td>\n",
       "      <td>0.417</td>\n",
       "      <td>0.500</td>\n",
       "      <td>3.500</td>\n",
       "    </tr>\n",
       "    <tr>\n",
       "      <th>X-E(X)</th>\n",
       "      <td>-2.500</td>\n",
       "      <td>-1.500</td>\n",
       "      <td>-0.500</td>\n",
       "      <td>0.500</td>\n",
       "      <td>1.500</td>\n",
       "      <td>2.500</td>\n",
       "      <td>0.000</td>\n",
       "    </tr>\n",
       "    <tr>\n",
       "      <th>(X-E(X))^2</th>\n",
       "      <td>6.250</td>\n",
       "      <td>2.250</td>\n",
       "      <td>0.250</td>\n",
       "      <td>0.250</td>\n",
       "      <td>2.250</td>\n",
       "      <td>6.250</td>\n",
       "      <td>17.500</td>\n",
       "    </tr>\n",
       "    <tr>\n",
       "      <th>(X-E(X))^2*P(x)</th>\n",
       "      <td>0.521</td>\n",
       "      <td>0.187</td>\n",
       "      <td>0.083</td>\n",
       "      <td>0.083</td>\n",
       "      <td>0.188</td>\n",
       "      <td>0.521</td>\n",
       "      <td>1.583</td>\n",
       "    </tr>\n",
       "  </tbody>\n",
       "</table>\n",
       "</div>"
      ],
      "text/plain": [
       "                     1      2      3      4      5      6     Sum\n",
       "P(x)             0.083  0.083  0.333  0.333  0.083  0.083   1.000\n",
       "E(X)             0.083  0.167  1.000  1.333  0.417  0.500   3.500\n",
       "X-E(X)          -2.500 -1.500 -0.500  0.500  1.500  2.500   0.000\n",
       "(X-E(X))^2       6.250  2.250  0.250  0.250  2.250  6.250  17.500\n",
       "(X-E(X))^2*P(x)  0.521  0.187  0.083  0.083  0.188  0.521   1.583"
      ]
     },
     "metadata": {},
     "output_type": "display_data"
    },
    {
     "data": {
      "text/html": [
       "<div>\n",
       "<style scoped>\n",
       "    .dataframe tbody tr th:only-of-type {\n",
       "        vertical-align: middle;\n",
       "    }\n",
       "\n",
       "    .dataframe tbody tr th {\n",
       "        vertical-align: top;\n",
       "    }\n",
       "\n",
       "    .dataframe thead th {\n",
       "        text-align: right;\n",
       "    }\n",
       "</style>\n",
       "<table border=\"1\" class=\"dataframe\">\n",
       "  <thead>\n",
       "    <tr style=\"text-align: right;\">\n",
       "      <th></th>\n",
       "      <th>Variance</th>\n",
       "      <th>Standard Deviation</th>\n",
       "    </tr>\n",
       "  </thead>\n",
       "  <tbody>\n",
       "    <tr>\n",
       "      <th>0</th>\n",
       "      <td>1.583</td>\n",
       "      <td>1.258</td>\n",
       "    </tr>\n",
       "  </tbody>\n",
       "</table>\n",
       "</div>"
      ],
      "text/plain": [
       "   Variance  Standard Deviation\n",
       "0     1.583               1.258"
      ]
     },
     "metadata": {},
     "output_type": "display_data"
    }
   ],
   "source": [
    "distribution_stats(die, loaded_die_probs)"
   ]
  },
  {
   "cell_type": "markdown",
   "metadata": {
    "slideshow": {
     "slide_type": "subslide"
    }
   },
   "source": [
    "Same expected value, difference variance."
   ]
  },
  {
   "cell_type": "markdown",
   "metadata": {
    "slideshow": {
     "slide_type": "slide"
    }
   },
   "source": [
    "## Two Dice"
   ]
  },
  {
   "cell_type": "code",
   "execution_count": 21,
   "metadata": {
    "slideshow": {
     "slide_type": "subslide"
    }
   },
   "outputs": [
    {
     "data": {
      "text/plain": [
       "[(1, 1),\n",
       " (1, 2),\n",
       " (1, 3),\n",
       " (1, 4),\n",
       " (1, 5),\n",
       " (1, 6),\n",
       " (2, 1),\n",
       " (2, 2),\n",
       " (2, 3),\n",
       " (2, 4),\n",
       " (2, 5),\n",
       " (2, 6),\n",
       " (3, 1),\n",
       " (3, 2),\n",
       " (3, 3),\n",
       " (3, 4),\n",
       " (3, 5),\n",
       " (3, 6),\n",
       " (4, 1),\n",
       " (4, 2),\n",
       " (4, 3),\n",
       " (4, 4),\n",
       " (4, 5),\n",
       " (4, 6),\n",
       " (5, 1),\n",
       " (5, 2),\n",
       " (5, 3),\n",
       " (5, 4),\n",
       " (5, 5),\n",
       " (5, 6),\n",
       " (6, 1),\n",
       " (6, 2),\n",
       " (6, 3),\n",
       " (6, 4),\n",
       " (6, 5),\n",
       " (6, 6)]"
      ]
     },
     "execution_count": 21,
     "metadata": {},
     "output_type": "execute_result"
    }
   ],
   "source": [
    "[x for x in product(die,repeat=2)]"
   ]
  },
  {
   "cell_type": "code",
   "execution_count": 22,
   "metadata": {
    "slideshow": {
     "slide_type": "subslide"
    }
   },
   "outputs": [
    {
     "data": {
      "text/plain": [
       "[2,\n",
       " 3,\n",
       " 4,\n",
       " 5,\n",
       " 6,\n",
       " 7,\n",
       " 3,\n",
       " 4,\n",
       " 5,\n",
       " 6,\n",
       " 7,\n",
       " 8,\n",
       " 4,\n",
       " 5,\n",
       " 6,\n",
       " 7,\n",
       " 8,\n",
       " 9,\n",
       " 5,\n",
       " 6,\n",
       " 7,\n",
       " 8,\n",
       " 9,\n",
       " 10,\n",
       " 6,\n",
       " 7,\n",
       " 8,\n",
       " 9,\n",
       " 10,\n",
       " 11,\n",
       " 7,\n",
       " 8,\n",
       " 9,\n",
       " 10,\n",
       " 11,\n",
       " 12]"
      ]
     },
     "execution_count": 22,
     "metadata": {},
     "output_type": "execute_result"
    }
   ],
   "source": [
    "two_dice_sums = [np.sum(i) for i in [x for x in product(die,repeat=2)]]\n",
    "two_dice_sums"
   ]
  },
  {
   "cell_type": "code",
   "execution_count": 23,
   "metadata": {
    "slideshow": {
     "slide_type": "subslide"
    }
   },
   "outputs": [
    {
     "data": {
      "text/plain": [
       "{2: 1, 3: 2, 4: 3, 5: 4, 6: 5, 7: 6, 8: 5, 9: 4, 10: 3, 11: 2, 12: 1}"
      ]
     },
     "execution_count": 23,
     "metadata": {},
     "output_type": "execute_result"
    }
   ],
   "source": [
    "two_dice_outcomes = dict(Counter(two_dice_sums))\n",
    "two_dice_outcomes"
   ]
  },
  {
   "cell_type": "code",
   "execution_count": 24,
   "metadata": {
    "slideshow": {
     "slide_type": "subslide"
    }
   },
   "outputs": [
    {
     "data": {
      "text/plain": [
       "array([0.02777778, 0.05555556, 0.08333333, 0.11111111, 0.13888889,\n",
       "       0.16666667, 0.13888889, 0.11111111, 0.08333333, 0.05555556,\n",
       "       0.02777778])"
      ]
     },
     "execution_count": 24,
     "metadata": {},
     "output_type": "execute_result"
    }
   ],
   "source": [
    "two_dice_probs = np.divide(list(two_dice_outcomes.values()),len(two_dice_sums))\n",
    "two_dice_probs"
   ]
  },
  {
   "cell_type": "code",
   "execution_count": 25,
   "metadata": {
    "slideshow": {
     "slide_type": "subslide"
    }
   },
   "outputs": [
    {
     "data": {
      "image/png": "[encoded data removed]",
      "text/plain": [
       "<Figure size 720x720 with 1 Axes>"
      ]
     },
     "metadata": {
      "needs_background": "light"
     },
     "output_type": "display_data"
    }
   ],
   "source": [
    "plot_pmf(two_dice_outcomes, two_dice_probs, 'Dice roll sum', 'Two Dice Roll PMF')"
   ]
  },
  {
   "cell_type": "code",
   "execution_count": 26,
   "metadata": {
    "slideshow": {
     "slide_type": "subslide"
    }
   },
   "outputs": [
    {
     "name": "stdout",
     "output_type": "stream",
     "text": [
      "Cumulative probabilities: [0.02777778 0.08333333 0.16666667 0.27777778 0.41666667 0.58333333\n",
      " 0.72222222 0.83333333 0.91666667 0.97222222 1.        ]\n"
     ]
    }
   ],
   "source": [
    "two_dice_cum_probs = np.cumsum(two_dice_probs)\n",
    "print('Cumulative probabilities:', two_dice_cum_probs)"
   ]
  },
  {
   "cell_type": "code",
   "execution_count": 27,
   "metadata": {
    "slideshow": {
     "slide_type": "subslide"
    }
   },
   "outputs": [
    {
     "data": {
      "image/png": "[encoded data removed]",
      "text/plain": [
       "<Figure size 720x720 with 1 Axes>"
      ]
     },
     "metadata": {
      "needs_background": "light"
     },
     "output_type": "display_data"
    }
   ],
   "source": [
    "plot_cdf(two_dice_outcomes, two_dice_cum_probs, 'Die roll sum', 'Two Dice Roll CDF')"
   ]
  },
  {
   "cell_type": "code",
   "execution_count": 29,
   "metadata": {
    "slideshow": {
     "slide_type": "subslide"
    }
   },
   "outputs": [
    {
     "data": {
      "text/html": [
       "<div>\n",
       "<style scoped>\n",
       "    .dataframe tbody tr th:only-of-type {\n",
       "        vertical-align: middle;\n",
       "    }\n",
       "\n",
       "    .dataframe tbody tr th {\n",
       "        vertical-align: top;\n",
       "    }\n",
       "\n",
       "    .dataframe thead th {\n",
       "        text-align: right;\n",
       "    }\n",
       "</style>\n",
       "<table border=\"1\" class=\"dataframe\">\n",
       "  <thead>\n",
       "    <tr style=\"text-align: right;\">\n",
       "      <th></th>\n",
       "      <th>2</th>\n",
       "      <th>3</th>\n",
       "      <th>4</th>\n",
       "      <th>5</th>\n",
       "      <th>6</th>\n",
       "      <th>7</th>\n",
       "      <th>8</th>\n",
       "      <th>9</th>\n",
       "      <th>10</th>\n",
       "      <th>11</th>\n",
       "      <th>12</th>\n",
       "      <th>Sum</th>\n",
       "    </tr>\n",
       "  </thead>\n",
       "  <tbody>\n",
       "    <tr>\n",
       "      <th>P(x)</th>\n",
       "      <td>0.028</td>\n",
       "      <td>0.056</td>\n",
       "      <td>0.083</td>\n",
       "      <td>0.111</td>\n",
       "      <td>0.139</td>\n",
       "      <td>0.167</td>\n",
       "      <td>0.139</td>\n",
       "      <td>0.111</td>\n",
       "      <td>0.083</td>\n",
       "      <td>0.056</td>\n",
       "      <td>0.028</td>\n",
       "      <td>1.000</td>\n",
       "    </tr>\n",
       "    <tr>\n",
       "      <th>E(X)</th>\n",
       "      <td>0.056</td>\n",
       "      <td>0.167</td>\n",
       "      <td>0.333</td>\n",
       "      <td>0.556</td>\n",
       "      <td>0.833</td>\n",
       "      <td>1.167</td>\n",
       "      <td>1.111</td>\n",
       "      <td>1.000</td>\n",
       "      <td>0.833</td>\n",
       "      <td>0.611</td>\n",
       "      <td>0.333</td>\n",
       "      <td>7.000</td>\n",
       "    </tr>\n",
       "    <tr>\n",
       "      <th>X-E(X)</th>\n",
       "      <td>-5.000</td>\n",
       "      <td>-4.000</td>\n",
       "      <td>-3.000</td>\n",
       "      <td>-2.000</td>\n",
       "      <td>-1.000</td>\n",
       "      <td>0.000</td>\n",
       "      <td>1.000</td>\n",
       "      <td>2.000</td>\n",
       "      <td>3.000</td>\n",
       "      <td>4.000</td>\n",
       "      <td>5.000</td>\n",
       "      <td>0.000</td>\n",
       "    </tr>\n",
       "    <tr>\n",
       "      <th>(X-E(X))^2</th>\n",
       "      <td>25.000</td>\n",
       "      <td>16.000</td>\n",
       "      <td>9.000</td>\n",
       "      <td>4.000</td>\n",
       "      <td>1.000</td>\n",
       "      <td>0.000</td>\n",
       "      <td>1.000</td>\n",
       "      <td>4.000</td>\n",
       "      <td>9.000</td>\n",
       "      <td>16.000</td>\n",
       "      <td>25.000</td>\n",
       "      <td>110.000</td>\n",
       "    </tr>\n",
       "    <tr>\n",
       "      <th>(X-E(X))^2*P(x)</th>\n",
       "      <td>0.694</td>\n",
       "      <td>0.889</td>\n",
       "      <td>0.750</td>\n",
       "      <td>0.444</td>\n",
       "      <td>0.139</td>\n",
       "      <td>0.000</td>\n",
       "      <td>0.139</td>\n",
       "      <td>0.444</td>\n",
       "      <td>0.750</td>\n",
       "      <td>0.889</td>\n",
       "      <td>0.694</td>\n",
       "      <td>5.833</td>\n",
       "    </tr>\n",
       "  </tbody>\n",
       "</table>\n",
       "</div>"
      ],
      "text/plain": [
       "                      2       3      4      5      6      7      8      9  \\\n",
       "P(x)              0.028   0.056  0.083  0.111  0.139  0.167  0.139  0.111   \n",
       "E(X)              0.056   0.167  0.333  0.556  0.833  1.167  1.111  1.000   \n",
       "X-E(X)           -5.000  -4.000 -3.000 -2.000 -1.000  0.000  1.000  2.000   \n",
       "(X-E(X))^2       25.000  16.000  9.000  4.000  1.000  0.000  1.000  4.000   \n",
       "(X-E(X))^2*P(x)   0.694   0.889  0.750  0.444  0.139  0.000  0.139  0.444   \n",
       "\n",
       "                    10      11      12      Sum  \n",
       "P(x)             0.083   0.056   0.028    1.000  \n",
       "E(X)             0.833   0.611   0.333    7.000  \n",
       "X-E(X)           3.000   4.000   5.000    0.000  \n",
       "(X-E(X))^2       9.000  16.000  25.000  110.000  \n",
       "(X-E(X))^2*P(x)  0.750   0.889   0.694    5.833  "
      ]
     },
     "metadata": {},
     "output_type": "display_data"
    },
    {
     "data": {
      "text/html": [
       "<div>\n",
       "<style scoped>\n",
       "    .dataframe tbody tr th:only-of-type {\n",
       "        vertical-align: middle;\n",
       "    }\n",
       "\n",
       "    .dataframe tbody tr th {\n",
       "        vertical-align: top;\n",
       "    }\n",
       "\n",
       "    .dataframe thead th {\n",
       "        text-align: right;\n",
       "    }\n",
       "</style>\n",
       "<table border=\"1\" class=\"dataframe\">\n",
       "  <thead>\n",
       "    <tr style=\"text-align: right;\">\n",
       "      <th></th>\n",
       "      <th>Variance</th>\n",
       "      <th>Standard Deviation</th>\n",
       "    </tr>\n",
       "  </thead>\n",
       "  <tbody>\n",
       "    <tr>\n",
       "      <th>0</th>\n",
       "      <td>5.833</td>\n",
       "      <td>2.415</td>\n",
       "    </tr>\n",
       "  </tbody>\n",
       "</table>\n",
       "</div>"
      ],
      "text/plain": [
       "   Variance  Standard Deviation\n",
       "0     5.833               2.415"
      ]
     },
     "metadata": {},
     "output_type": "display_data"
    }
   ],
   "source": [
    "distribution_stats(list(two_dice_outcomes), two_dice_probs)"
   ]
  },
  {
   "cell_type": "markdown",
   "metadata": {
    "slideshow": {
     "slide_type": "slide"
    }
   },
   "source": [
    "## Three Dice"
   ]
  },
  {
   "cell_type": "code",
   "execution_count": 30,
   "metadata": {
    "slideshow": {
     "slide_type": "subslide"
    }
   },
   "outputs": [
    {
     "data": {
      "text/plain": [
       "{3: 1,\n",
       " 4: 3,\n",
       " 5: 6,\n",
       " 6: 10,\n",
       " 7: 15,\n",
       " 8: 21,\n",
       " 9: 25,\n",
       " 10: 27,\n",
       " 11: 27,\n",
       " 12: 25,\n",
       " 13: 21,\n",
       " 14: 15,\n",
       " 15: 10,\n",
       " 16: 6,\n",
       " 17: 3,\n",
       " 18: 1}"
      ]
     },
     "execution_count": 30,
     "metadata": {},
     "output_type": "execute_result"
    }
   ],
   "source": [
    "three_dice_sums = [np.sum(i) for i in [x for x in product(die,repeat=3)]]\n",
    "three_dice_outcomes = dict(Counter(three_dice_sums))\n",
    "three_dice_outcomes"
   ]
  },
  {
   "cell_type": "code",
   "execution_count": 31,
   "metadata": {
    "slideshow": {
     "slide_type": "subslide"
    }
   },
   "outputs": [
    {
     "data": {
      "text/plain": [
       "array([0.00462963, 0.01388889, 0.02777778, 0.0462963 , 0.06944444,\n",
       "       0.09722222, 0.11574074, 0.125     , 0.125     , 0.11574074,\n",
       "       0.09722222, 0.06944444, 0.0462963 , 0.02777778, 0.01388889,\n",
       "       0.00462963])"
      ]
     },
     "execution_count": 31,
     "metadata": {},
     "output_type": "execute_result"
    }
   ],
   "source": [
    "three_dice_probs = np.divide(list(three_dice_outcomes.values()),len(three_dice_sums))\n",
    "three_dice_probs"
   ]
  },
  {
   "cell_type": "code",
   "execution_count": 32,
   "metadata": {
    "slideshow": {
     "slide_type": "subslide"
    }
   },
   "outputs": [
    {
     "data": {
      "image/png": "[encoded data removed]",
      "text/plain": [
       "<Figure size 720x720 with 1 Axes>"
      ]
     },
     "metadata": {
      "needs_background": "light"
     },
     "output_type": "display_data"
    }
   ],
   "source": [
    "plot_pmf(three_dice_outcomes, three_dice_probs, 'Dice roll sum', 'Three Dice Roll PMF')"
   ]
  },
  {
   "cell_type": "code",
   "execution_count": 33,
   "metadata": {
    "slideshow": {
     "slide_type": "subslide"
    }
   },
   "outputs": [
    {
     "name": "stdout",
     "output_type": "stream",
     "text": [
      "Cumulative probabilities: [0.00462963 0.01851852 0.0462963  0.09259259 0.16203704 0.25925926\n",
      " 0.375      0.5        0.625      0.74074074 0.83796296 0.90740741\n",
      " 0.9537037  0.98148148 0.99537037 1.        ]\n"
     ]
    }
   ],
   "source": [
    "three_dice_cum_probs = np.cumsum(three_dice_probs)\n",
    "print('Cumulative probabilities:', three_dice_cum_probs)"
   ]
  },
  {
   "cell_type": "code",
   "execution_count": 34,
   "metadata": {
    "slideshow": {
     "slide_type": "subslide"
    }
   },
   "outputs": [
    {
     "data": {
      "image/png": "[encoded data removed]",
      "text/plain": [
       "<Figure size 720x720 with 1 Axes>"
      ]
     },
     "metadata": {
      "needs_background": "light"
     },
     "output_type": "display_data"
    }
   ],
   "source": [
    "plot_cdf(three_dice_outcomes, three_dice_cum_probs, 'Dice roll sum', 'Three Dice Roll CDF')"
   ]
  },
  {
   "cell_type": "code",
   "execution_count": 35,
   "metadata": {
    "scrolled": true,
    "slideshow": {
     "slide_type": "subslide"
    }
   },
   "outputs": [
    {
     "data": {
      "text/html": [
       "<div>\n",
       "<style scoped>\n",
       "    .dataframe tbody tr th:only-of-type {\n",
       "        vertical-align: middle;\n",
       "    }\n",
       "\n",
       "    .dataframe tbody tr th {\n",
       "        vertical-align: top;\n",
       "    }\n",
       "\n",
       "    .dataframe thead th {\n",
       "        text-align: right;\n",
       "    }\n",
       "</style>\n",
       "<table border=\"1\" class=\"dataframe\">\n",
       "  <thead>\n",
       "    <tr style=\"text-align: right;\">\n",
       "      <th></th>\n",
       "      <th>3</th>\n",
       "      <th>4</th>\n",
       "      <th>5</th>\n",
       "      <th>6</th>\n",
       "      <th>7</th>\n",
       "      <th>8</th>\n",
       "      <th>9</th>\n",
       "      <th>10</th>\n",
       "      <th>11</th>\n",
       "      <th>12</th>\n",
       "      <th>13</th>\n",
       "      <th>14</th>\n",
       "      <th>15</th>\n",
       "      <th>16</th>\n",
       "      <th>17</th>\n",
       "      <th>18</th>\n",
       "      <th>Sum</th>\n",
       "    </tr>\n",
       "  </thead>\n",
       "  <tbody>\n",
       "    <tr>\n",
       "      <th>P(x)</th>\n",
       "      <td>0.005</td>\n",
       "      <td>0.014</td>\n",
       "      <td>0.028</td>\n",
       "      <td>0.046</td>\n",
       "      <td>0.069</td>\n",
       "      <td>0.097</td>\n",
       "      <td>0.116</td>\n",
       "      <td>0.125</td>\n",
       "      <td>0.125</td>\n",
       "      <td>0.116</td>\n",
       "      <td>0.097</td>\n",
       "      <td>0.069</td>\n",
       "      <td>0.046</td>\n",
       "      <td>0.028</td>\n",
       "      <td>0.014</td>\n",
       "      <td>0.005</td>\n",
       "      <td>1.00</td>\n",
       "    </tr>\n",
       "    <tr>\n",
       "      <th>E(X)</th>\n",
       "      <td>0.014</td>\n",
       "      <td>0.056</td>\n",
       "      <td>0.139</td>\n",
       "      <td>0.278</td>\n",
       "      <td>0.486</td>\n",
       "      <td>0.778</td>\n",
       "      <td>1.042</td>\n",
       "      <td>1.250</td>\n",
       "      <td>1.375</td>\n",
       "      <td>1.389</td>\n",
       "      <td>1.264</td>\n",
       "      <td>0.972</td>\n",
       "      <td>0.694</td>\n",
       "      <td>0.444</td>\n",
       "      <td>0.236</td>\n",
       "      <td>0.083</td>\n",
       "      <td>10.50</td>\n",
       "    </tr>\n",
       "    <tr>\n",
       "      <th>X-E(X)</th>\n",
       "      <td>-7.500</td>\n",
       "      <td>-6.500</td>\n",
       "      <td>-5.500</td>\n",
       "      <td>-4.500</td>\n",
       "      <td>-3.500</td>\n",
       "      <td>-2.500</td>\n",
       "      <td>-1.500</td>\n",
       "      <td>-0.500</td>\n",
       "      <td>0.500</td>\n",
       "      <td>1.500</td>\n",
       "      <td>2.500</td>\n",
       "      <td>3.500</td>\n",
       "      <td>4.500</td>\n",
       "      <td>5.500</td>\n",
       "      <td>6.500</td>\n",
       "      <td>7.500</td>\n",
       "      <td>0.00</td>\n",
       "    </tr>\n",
       "    <tr>\n",
       "      <th>(X-E(X))^2</th>\n",
       "      <td>56.250</td>\n",
       "      <td>42.250</td>\n",
       "      <td>30.250</td>\n",
       "      <td>20.250</td>\n",
       "      <td>12.250</td>\n",
       "      <td>6.250</td>\n",
       "      <td>2.250</td>\n",
       "      <td>0.250</td>\n",
       "      <td>0.250</td>\n",
       "      <td>2.250</td>\n",
       "      <td>6.250</td>\n",
       "      <td>12.250</td>\n",
       "      <td>20.250</td>\n",
       "      <td>30.250</td>\n",
       "      <td>42.250</td>\n",
       "      <td>56.250</td>\n",
       "      <td>340.00</td>\n",
       "    </tr>\n",
       "    <tr>\n",
       "      <th>(X-E(X))^2*P(x)</th>\n",
       "      <td>0.260</td>\n",
       "      <td>0.587</td>\n",
       "      <td>0.840</td>\n",
       "      <td>0.938</td>\n",
       "      <td>0.851</td>\n",
       "      <td>0.608</td>\n",
       "      <td>0.260</td>\n",
       "      <td>0.031</td>\n",
       "      <td>0.031</td>\n",
       "      <td>0.260</td>\n",
       "      <td>0.608</td>\n",
       "      <td>0.851</td>\n",
       "      <td>0.938</td>\n",
       "      <td>0.840</td>\n",
       "      <td>0.587</td>\n",
       "      <td>0.260</td>\n",
       "      <td>8.75</td>\n",
       "    </tr>\n",
       "  </tbody>\n",
       "</table>\n",
       "</div>"
      ],
      "text/plain": [
       "                      3       4       5       6       7      8      9     10  \\\n",
       "P(x)              0.005   0.014   0.028   0.046   0.069  0.097  0.116  0.125   \n",
       "E(X)              0.014   0.056   0.139   0.278   0.486  0.778  1.042  1.250   \n",
       "X-E(X)           -7.500  -6.500  -5.500  -4.500  -3.500 -2.500 -1.500 -0.500   \n",
       "(X-E(X))^2       56.250  42.250  30.250  20.250  12.250  6.250  2.250  0.250   \n",
       "(X-E(X))^2*P(x)   0.260   0.587   0.840   0.938   0.851  0.608  0.260  0.031   \n",
       "\n",
       "                    11     12     13      14      15      16      17      18  \\\n",
       "P(x)             0.125  0.116  0.097   0.069   0.046   0.028   0.014   0.005   \n",
       "E(X)             1.375  1.389  1.264   0.972   0.694   0.444   0.236   0.083   \n",
       "X-E(X)           0.500  1.500  2.500   3.500   4.500   5.500   6.500   7.500   \n",
       "(X-E(X))^2       0.250  2.250  6.250  12.250  20.250  30.250  42.250  56.250   \n",
       "(X-E(X))^2*P(x)  0.031  0.260  0.608   0.851   0.938   0.840   0.587   0.260   \n",
       "\n",
       "                    Sum  \n",
       "P(x)               1.00  \n",
       "E(X)              10.50  \n",
       "X-E(X)             0.00  \n",
       "(X-E(X))^2       340.00  \n",
       "(X-E(X))^2*P(x)    8.75  "
      ]
     },
     "metadata": {},
     "output_type": "display_data"
    },
    {
     "data": {
      "text/html": [
       "<div>\n",
       "<style scoped>\n",
       "    .dataframe tbody tr th:only-of-type {\n",
       "        vertical-align: middle;\n",
       "    }\n",
       "\n",
       "    .dataframe tbody tr th {\n",
       "        vertical-align: top;\n",
       "    }\n",
       "\n",
       "    .dataframe thead th {\n",
       "        text-align: right;\n",
       "    }\n",
       "</style>\n",
       "<table border=\"1\" class=\"dataframe\">\n",
       "  <thead>\n",
       "    <tr style=\"text-align: right;\">\n",
       "      <th></th>\n",
       "      <th>Variance</th>\n",
       "      <th>Standard Deviation</th>\n",
       "    </tr>\n",
       "  </thead>\n",
       "  <tbody>\n",
       "    <tr>\n",
       "      <th>0</th>\n",
       "      <td>8.75</td>\n",
       "      <td>2.958</td>\n",
       "    </tr>\n",
       "  </tbody>\n",
       "</table>\n",
       "</div>"
      ],
      "text/plain": [
       "   Variance  Standard Deviation\n",
       "0      8.75               2.958"
      ]
     },
     "metadata": {},
     "output_type": "display_data"
    }
   ],
   "source": [
    "distribution_stats(list(three_dice_outcomes), three_dice_probs)"
   ]
  },
  {
   "cell_type": "markdown",
   "metadata": {
    "slideshow": {
     "slide_type": "slide"
    }
   },
   "source": [
    "Suppose now we roll a die. If we roll a one, then we roll a second time. What would this probability distribution look like?"
   ]
  },
  {
   "cell_type": "markdown",
   "metadata": {
    "slideshow": {
     "slide_type": "subslide"
    }
   },
   "source": [
    "By hand."
   ]
  },
  {
   "cell_type": "code",
   "execution_count": 36,
   "metadata": {
    "slideshow": {
     "slide_type": "subslide"
    }
   },
   "outputs": [
    {
     "name": "stdout",
     "output_type": "stream",
     "text": [
      "[0.18181818181818182, 0.18181818181818182, 0.18181818181818182, 0.18181818181818182, 0.18181818181818182, 0.09090909090909091]\n"
     ]
    },
    {
     "data": {
      "text/html": [
       "<div>\n",
       "<style scoped>\n",
       "    .dataframe tbody tr th:only-of-type {\n",
       "        vertical-align: middle;\n",
       "    }\n",
       "\n",
       "    .dataframe tbody tr th {\n",
       "        vertical-align: top;\n",
       "    }\n",
       "\n",
       "    .dataframe thead th {\n",
       "        text-align: right;\n",
       "    }\n",
       "</style>\n",
       "<table border=\"1\" class=\"dataframe\">\n",
       "  <thead>\n",
       "    <tr style=\"text-align: right;\">\n",
       "      <th></th>\n",
       "      <th>2</th>\n",
       "      <th>3</th>\n",
       "      <th>4</th>\n",
       "      <th>5</th>\n",
       "      <th>6</th>\n",
       "      <th>7</th>\n",
       "      <th>Sum</th>\n",
       "    </tr>\n",
       "  </thead>\n",
       "  <tbody>\n",
       "    <tr>\n",
       "      <th>P(x)</th>\n",
       "      <td>0.182</td>\n",
       "      <td>0.182</td>\n",
       "      <td>0.182</td>\n",
       "      <td>0.182</td>\n",
       "      <td>0.182</td>\n",
       "      <td>0.091</td>\n",
       "      <td>1.000</td>\n",
       "    </tr>\n",
       "    <tr>\n",
       "      <th>E(X)</th>\n",
       "      <td>0.364</td>\n",
       "      <td>0.545</td>\n",
       "      <td>0.727</td>\n",
       "      <td>0.909</td>\n",
       "      <td>1.091</td>\n",
       "      <td>0.636</td>\n",
       "      <td>4.273</td>\n",
       "    </tr>\n",
       "    <tr>\n",
       "      <th>X-E(X)</th>\n",
       "      <td>-2.273</td>\n",
       "      <td>-1.273</td>\n",
       "      <td>-0.273</td>\n",
       "      <td>0.727</td>\n",
       "      <td>1.727</td>\n",
       "      <td>2.727</td>\n",
       "      <td>1.364</td>\n",
       "    </tr>\n",
       "    <tr>\n",
       "      <th>(X-E(X))^2</th>\n",
       "      <td>5.165</td>\n",
       "      <td>1.620</td>\n",
       "      <td>0.074</td>\n",
       "      <td>0.529</td>\n",
       "      <td>2.983</td>\n",
       "      <td>7.438</td>\n",
       "      <td>17.810</td>\n",
       "    </tr>\n",
       "    <tr>\n",
       "      <th>(X-E(X))^2*P(x)</th>\n",
       "      <td>0.939</td>\n",
       "      <td>0.295</td>\n",
       "      <td>0.014</td>\n",
       "      <td>0.096</td>\n",
       "      <td>0.542</td>\n",
       "      <td>0.676</td>\n",
       "      <td>2.562</td>\n",
       "    </tr>\n",
       "  </tbody>\n",
       "</table>\n",
       "</div>"
      ],
      "text/plain": [
       "                     2      3      4      5      6      7     Sum\n",
       "P(x)             0.182  0.182  0.182  0.182  0.182  0.091   1.000\n",
       "E(X)             0.364  0.545  0.727  0.909  1.091  0.636   4.273\n",
       "X-E(X)          -2.273 -1.273 -0.273  0.727  1.727  2.727   1.364\n",
       "(X-E(X))^2       5.165  1.620  0.074  0.529  2.983  7.438  17.810\n",
       "(X-E(X))^2*P(x)  0.939  0.295  0.014  0.096  0.542  0.676   2.562"
      ]
     },
     "metadata": {},
     "output_type": "display_data"
    },
    {
     "data": {
      "text/html": [
       "<div>\n",
       "<style scoped>\n",
       "    .dataframe tbody tr th:only-of-type {\n",
       "        vertical-align: middle;\n",
       "    }\n",
       "\n",
       "    .dataframe tbody tr th {\n",
       "        vertical-align: top;\n",
       "    }\n",
       "\n",
       "    .dataframe thead th {\n",
       "        text-align: right;\n",
       "    }\n",
       "</style>\n",
       "<table border=\"1\" class=\"dataframe\">\n",
       "  <thead>\n",
       "    <tr style=\"text-align: right;\">\n",
       "      <th></th>\n",
       "      <th>Variance</th>\n",
       "      <th>Standard Deviation</th>\n",
       "    </tr>\n",
       "  </thead>\n",
       "  <tbody>\n",
       "    <tr>\n",
       "      <th>0</th>\n",
       "      <td>2.562</td>\n",
       "      <td>1.601</td>\n",
       "    </tr>\n",
       "  </tbody>\n",
       "</table>\n",
       "</div>"
      ],
      "text/plain": [
       "   Variance  Standard Deviation\n",
       "0     2.562               1.601"
      ]
     },
     "metadata": {},
     "output_type": "display_data"
    }
   ],
   "source": [
    "outcomes = [2,3,4,5,6,7]\n",
    "probs = [2/11,2/11,2/11,2/11,2/11,1/11]\n",
    "print(probs)\n",
    "distribution_stats(outcomes,probs)"
   ]
  },
  {
   "cell_type": "code",
   "execution_count": 37,
   "metadata": {
    "slideshow": {
     "slide_type": "subslide"
    }
   },
   "outputs": [
    {
     "data": {
      "image/png": "[encoded data removed]",
      "text/plain": [
       "<Figure size 720x720 with 1 Axes>"
      ]
     },
     "metadata": {
      "needs_background": "light"
     },
     "output_type": "display_data"
    }
   ],
   "source": [
    "plot_pmf(outcomes, probs, 'Roll', 'PMF')"
   ]
  },
  {
   "cell_type": "code",
   "execution_count": 38,
   "metadata": {
    "slideshow": {
     "slide_type": "subslide"
    }
   },
   "outputs": [
    {
     "data": {
      "image/png": "[encoded data removed]",
      "text/plain": [
       "<Figure size 720x720 with 1 Axes>"
      ]
     },
     "metadata": {
      "needs_background": "light"
     },
     "output_type": "display_data"
    }
   ],
   "source": [
    "cum_probs = np.cumsum(probs)\n",
    "plot_cdf(outcomes, cum_probs, 'Roll', 'CDF')"
   ]
  },
  {
   "cell_type": "markdown",
   "metadata": {
    "slideshow": {
     "slide_type": "slide"
    }
   },
   "source": [
    "# Activity"
   ]
  },
  {
   "cell_type": "markdown",
   "metadata": {
    "slideshow": {
     "slide_type": "subslide"
    }
   },
   "source": [
    "You flip a coin. If it's heads, you pick a prize from box A. If it's tails, you pick a prize from box B. <br><br>\n",
    "- Box A has two bags inside. One with 3 coins and one with 5 coins.<br>\n",
    "- Box B has four bags inside. The bags have 1, 2, 3, and 4 coins. <br><br>\n",
    "\n",
    "1) Build a distribution table by hand to calculate variance and standard deviation.\n",
    "       Use the `distribution_stats` function to check your answer. <br> <br>\n",
    "2) Graph the PMF and CDF for the outcomes.<br> <br>\n",
    "3) What are the odds you get between 2 and 4 (inclusive) coins? <br><br>\n",
    "\n",
    "<b>Bonus:</b> You now get two chances to pick a prize. What is the distribution of total tokens you will recieve assuming you don't replace the first bag you select?"
   ]
  },
  {
   "cell_type": "code",
   "execution_count": 40,
   "metadata": {},
   "outputs": [
    {
     "name": "stdout",
     "output_type": "stream",
     "text": [
      "[0.125, 0.125, 0.375, 0.125, 0.25]\n"
     ]
    },
    {
     "data": {
      "text/html": [
       "<div>\n",
       "<style scoped>\n",
       "    .dataframe tbody tr th:only-of-type {\n",
       "        vertical-align: middle;\n",
       "    }\n",
       "\n",
       "    .dataframe tbody tr th {\n",
       "        vertical-align: top;\n",
       "    }\n",
       "\n",
       "    .dataframe thead th {\n",
       "        text-align: right;\n",
       "    }\n",
       "</style>\n",
       "<table border=\"1\" class=\"dataframe\">\n",
       "  <thead>\n",
       "    <tr style=\"text-align: right;\">\n",
       "      <th></th>\n",
       "      <th>1</th>\n",
       "      <th>2</th>\n",
       "      <th>3</th>\n",
       "      <th>4</th>\n",
       "      <th>5</th>\n",
       "      <th>Sum</th>\n",
       "    </tr>\n",
       "  </thead>\n",
       "  <tbody>\n",
       "    <tr>\n",
       "      <th>P(x)</th>\n",
       "      <td>0.125</td>\n",
       "      <td>0.125</td>\n",
       "      <td>0.375</td>\n",
       "      <td>0.125</td>\n",
       "      <td>0.250</td>\n",
       "      <td>1.000</td>\n",
       "    </tr>\n",
       "    <tr>\n",
       "      <th>E(X)</th>\n",
       "      <td>0.125</td>\n",
       "      <td>0.250</td>\n",
       "      <td>1.125</td>\n",
       "      <td>0.500</td>\n",
       "      <td>1.250</td>\n",
       "      <td>3.250</td>\n",
       "    </tr>\n",
       "    <tr>\n",
       "      <th>X-E(X)</th>\n",
       "      <td>-2.250</td>\n",
       "      <td>-1.250</td>\n",
       "      <td>-0.250</td>\n",
       "      <td>0.750</td>\n",
       "      <td>1.750</td>\n",
       "      <td>-1.250</td>\n",
       "    </tr>\n",
       "    <tr>\n",
       "      <th>(X-E(X))^2</th>\n",
       "      <td>5.062</td>\n",
       "      <td>1.562</td>\n",
       "      <td>0.062</td>\n",
       "      <td>0.562</td>\n",
       "      <td>3.062</td>\n",
       "      <td>10.312</td>\n",
       "    </tr>\n",
       "    <tr>\n",
       "      <th>(X-E(X))^2*P(x)</th>\n",
       "      <td>0.633</td>\n",
       "      <td>0.195</td>\n",
       "      <td>0.023</td>\n",
       "      <td>0.070</td>\n",
       "      <td>0.766</td>\n",
       "      <td>1.688</td>\n",
       "    </tr>\n",
       "  </tbody>\n",
       "</table>\n",
       "</div>"
      ],
      "text/plain": [
       "                     1      2      3      4      5     Sum\n",
       "P(x)             0.125  0.125  0.375  0.125  0.250   1.000\n",
       "E(X)             0.125  0.250  1.125  0.500  1.250   3.250\n",
       "X-E(X)          -2.250 -1.250 -0.250  0.750  1.750  -1.250\n",
       "(X-E(X))^2       5.062  1.562  0.062  0.562  3.062  10.312\n",
       "(X-E(X))^2*P(x)  0.633  0.195  0.023  0.070  0.766   1.688"
      ]
     },
     "metadata": {},
     "output_type": "display_data"
    },
    {
     "data": {
      "text/html": [
       "<div>\n",
       "<style scoped>\n",
       "    .dataframe tbody tr th:only-of-type {\n",
       "        vertical-align: middle;\n",
       "    }\n",
       "\n",
       "    .dataframe tbody tr th {\n",
       "        vertical-align: top;\n",
       "    }\n",
       "\n",
       "    .dataframe thead th {\n",
       "        text-align: right;\n",
       "    }\n",
       "</style>\n",
       "<table border=\"1\" class=\"dataframe\">\n",
       "  <thead>\n",
       "    <tr style=\"text-align: right;\">\n",
       "      <th></th>\n",
       "      <th>Variance</th>\n",
       "      <th>Standard Deviation</th>\n",
       "    </tr>\n",
       "  </thead>\n",
       "  <tbody>\n",
       "    <tr>\n",
       "      <th>0</th>\n",
       "      <td>1.688</td>\n",
       "      <td>1.299</td>\n",
       "    </tr>\n",
       "  </tbody>\n",
       "</table>\n",
       "</div>"
      ],
      "text/plain": [
       "   Variance  Standard Deviation\n",
       "0     1.688               1.299"
      ]
     },
     "metadata": {},
     "output_type": "display_data"
    }
   ],
   "source": [
    "outcomes = [1,2,3,4,5]\n",
    "probs = [1/8,1/8,3/8,1/8,2/8]\n",
    "print(probs)\n",
    "distribution_stats(outcomes,probs)"
   ]
  },
  {
   "cell_type": "code",
   "execution_count": null,
   "metadata": {},
   "outputs": [],
   "source": []
  },
  {
   "cell_type": "code",
   "execution_count": null,
   "metadata": {},
   "outputs": [],
   "source": []
  }
 ],
 "metadata": {
  "celltoolbar": "Slideshow",
  "kernelspec": {
   "display_name": "Python 3",
   "language": "python",
   "name": "python3"
  },
  "language_info": {
   "codemirror_mode": {
    "name": "ipython",
    "version": 3
   },
   "file_extension": ".py",
   "mimetype": "text/x-python",
   "name": "python",
   "nbconvert_exporter": "python",
   "pygments_lexer": "ipython3",
   "version": "3.6.6"
  }
 },
 "nbformat": 4,
 "nbformat_minor": 2
}
